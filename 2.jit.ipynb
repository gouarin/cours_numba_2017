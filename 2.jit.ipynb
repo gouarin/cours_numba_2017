{
 "cells": [
  {
   "cell_type": "markdown",
   "metadata": {},
   "source": [
    "# Utilisation de jit\n",
    "\n",
    "<img src=\"figures/numba_blue_icon_rgb.png\" alt=\"Drawing\" style=\"width: 20%;\"/>\n",
    "\n",
    "<center>**Loic Gouarin**</center>\n",
    "<center>*8 novembre 2017*</center>\n",
    "\n",
    "Comme dit en introduction, Numba propose plusieurs fonctionnalités. La plus générale est la fonction jit. Nous allons dans la suite aborder l'ensemble des possibilités de celle-ci.\n",
    "\n",
    "Numba est efficace sur des données numériques de type scalaire ou des tableaux NumPy. Contrairement à vos habitudes pour une utilisation efficace de NumPy (écriture vectorielle), il est indispensable de dérouler les boucles comme vous le feriez dans un langage bas niveau pour avoir de bonnes performances. \n",
    "\n",
    "Prenons l'exemple d'un calcul sommant les coefficients d'un vecteur. En NumPy, ça s'écrit"
   ]
  },
  {
   "cell_type": "code",
   "execution_count": 1,
   "metadata": {},
   "outputs": [
    {
     "name": "stdout",
     "output_type": "stream",
     "text": [
      "500458.385445\n"
     ]
    }
   ],
   "source": [
    "import numpy as np\n",
    "\n",
    "x = np.random.rand(1000000)\n",
    "print(x.sum())"
   ]
  },
  {
   "cell_type": "markdown",
   "metadata": {},
   "source": [
    "Le temps de calcul est"
   ]
  },
  {
   "cell_type": "code",
   "execution_count": 2,
   "metadata": {},
   "outputs": [
    {
     "name": "stdout",
     "output_type": "stream",
     "text": [
      "396 µs ± 13.4 µs per loop (mean ± std. dev. of 7 runs, 1000 loops each)\n"
     ]
    }
   ],
   "source": [
    "%timeit x.sum()"
   ]
  },
  {
   "cell_type": "markdown",
   "metadata": {},
   "source": [
    "Voyons ce que ça donne avec Numba."
   ]
  },
  {
   "cell_type": "code",
   "execution_count": 3,
   "metadata": {
    "collapsed": true
   },
   "outputs": [],
   "source": [
    "from numba import jit"
   ]
  },
  {
   "cell_type": "code",
   "execution_count": 4,
   "metadata": {
    "collapsed": true
   },
   "outputs": [],
   "source": [
    "@jit\n",
    "def numba_sum(x):\n",
    "    res= 0\n",
    "    for i in range(x.size):\n",
    "        res += x[i]\n",
    "    return res"
   ]
  },
  {
   "cell_type": "code",
   "execution_count": 6,
   "metadata": {},
   "outputs": [
    {
     "name": "stdout",
     "output_type": "stream",
     "text": [
      "1.35 ms ± 99.4 µs per loop (mean ± std. dev. of 7 runs, 1000 loops each)\n"
     ]
    }
   ],
   "source": [
    "%timeit numba_sum(x)"
   ]
  },
  {
   "cell_type": "markdown",
   "metadata": {},
   "source": [
    "Le message indiqué en première ligne est dû au fait que Numba compile la fonction lors de son premier appel. Du coup, l'exécution de la fonction *numba_sum* est beaucoup plus lente que les autres.\n",
    "\n",
    "Les performances sont bien plus mauvaises avec Numba. Ceci est dû au fait que NumPy utilise déjà des fonctions optimisées pour faire la somme."
   ]
  },
  {
   "cell_type": "markdown",
   "metadata": {},
   "source": [
    "## Fonctions utiles\n",
    "\n",
    "Le décorateur jit de Numba ajoute un certain nombre de fonctions offrant des informations pouvant s'avérer très utiles."
   ]
  },
  {
   "cell_type": "code",
   "execution_count": 6,
   "metadata": {
    "collapsed": true
   },
   "outputs": [],
   "source": [
    "@jit\n",
    "def somme(a, b):\n",
    "    return a + b"
   ]
  },
  {
   "cell_type": "markdown",
   "metadata": {},
   "source": [
    "#### inspect_types\n",
    "\n",
    "Cette méthode permet de savoir quelles sont les fonctions générées pour un certain type de données d'entrée tout en nous montrant l'inférence de type proposée par Numba."
   ]
  },
  {
   "cell_type": "code",
   "execution_count": 7,
   "metadata": {
    "collapsed": true
   },
   "outputs": [],
   "source": [
    "somme.inspect_types()"
   ]
  },
  {
   "cell_type": "markdown",
   "metadata": {},
   "source": [
    "Nous voyons ici qu'il n'y a pas pour le moment de fonction compilée par Numba. Si nous l'appelons une première fois avec un certain type de données"
   ]
  },
  {
   "cell_type": "code",
   "execution_count": 8,
   "metadata": {},
   "outputs": [
    {
     "name": "stdout",
     "output_type": "stream",
     "text": [
      "somme (int64, int64)\n",
      "--------------------------------------------------------------------------------\n",
      "# File: <ipython-input-6-d0b9178a02d8>\n",
      "# --- LINE 1 --- \n",
      "# label 0\n",
      "#   del b\n",
      "#   del a\n",
      "#   del $0.3\n",
      "\n",
      "@jit\n",
      "\n",
      "# --- LINE 2 --- \n",
      "\n",
      "def somme(a, b):\n",
      "\n",
      "    # --- LINE 3 --- \n",
      "    #   a = arg(0, name=a)  :: int64\n",
      "    #   b = arg(1, name=b)  :: int64\n",
      "    #   $0.3 = a + b  :: int64\n",
      "    #   $0.4 = cast(value=$0.3)  :: int64\n",
      "    #   return $0.4\n",
      "\n",
      "    return a + b\n",
      "\n",
      "\n",
      "================================================================================\n"
     ]
    }
   ],
   "source": [
    "somme(1, 2)\n",
    "somme.inspect_types()"
   ]
  },
  {
   "cell_type": "code",
   "execution_count": 9,
   "metadata": {},
   "outputs": [
    {
     "name": "stdout",
     "output_type": "stream",
     "text": [
      "somme (int64, int64)\n",
      "--------------------------------------------------------------------------------\n",
      "# File: <ipython-input-6-d0b9178a02d8>\n",
      "# --- LINE 1 --- \n",
      "# label 0\n",
      "#   del b\n",
      "#   del a\n",
      "#   del $0.3\n",
      "\n",
      "@jit\n",
      "\n",
      "# --- LINE 2 --- \n",
      "\n",
      "def somme(a, b):\n",
      "\n",
      "    # --- LINE 3 --- \n",
      "    #   a = arg(0, name=a)  :: int64\n",
      "    #   b = arg(1, name=b)  :: int64\n",
      "    #   $0.3 = a + b  :: int64\n",
      "    #   $0.4 = cast(value=$0.3)  :: int64\n",
      "    #   return $0.4\n",
      "\n",
      "    return a + b\n",
      "\n",
      "\n",
      "================================================================================\n",
      "somme (float64, float64)\n",
      "--------------------------------------------------------------------------------\n",
      "# File: <ipython-input-6-d0b9178a02d8>\n",
      "# --- LINE 1 --- \n",
      "# label 0\n",
      "#   del b\n",
      "#   del a\n",
      "#   del $0.3\n",
      "\n",
      "@jit\n",
      "\n",
      "# --- LINE 2 --- \n",
      "\n",
      "def somme(a, b):\n",
      "\n",
      "    # --- LINE 3 --- \n",
      "    #   a = arg(0, name=a)  :: float64\n",
      "    #   b = arg(1, name=b)  :: float64\n",
      "    #   $0.3 = a + b  :: float64\n",
      "    #   $0.4 = cast(value=$0.3)  :: float64\n",
      "    #   return $0.4\n",
      "\n",
      "    return a + b\n",
      "\n",
      "\n",
      "================================================================================\n"
     ]
    }
   ],
   "source": [
    "somme(1., 2.)\n",
    "somme.inspect_types()"
   ]
  },
  {
   "cell_type": "markdown",
   "metadata": {},
   "source": [
    "#### inspect_llvm\n",
    "\n",
    "Vous pouvez également avoir accès à la représentation intermédiaire de LLVM."
   ]
  },
  {
   "cell_type": "code",
   "execution_count": 10,
   "metadata": {},
   "outputs": [
    {
     "name": "stdout",
     "output_type": "stream",
     "text": [
      "; ModuleID = 'somme'\n",
      "source_filename = \"<string>\"\n",
      "target datalayout = \"e-m:e-i64:64-f80:128-n8:16:32:64-S128\"\n",
      "target triple = \"x86_64-unknown-linux-gnu\"\n",
      "\n",
      "@.const.somme = internal constant [6 x i8] c\"somme\\00\"\n",
      "@\".const.Fatal error: missing _dynfunc.Closure\" = internal constant [38 x i8] c\"Fatal error: missing _dynfunc.Closure\\00\"\n",
      "@PyExc_RuntimeError = external global i8\n",
      "@\".const.missing Environment\" = internal constant [20 x i8] c\"missing Environment\\00\"\n",
      "\n",
      "; Function Attrs: norecurse nounwind\n",
      "define i32 @\"_ZN8__main__9somme$242Exx\"(i64* noalias nocapture %retptr, { i8*, i32 }** noalias nocapture readnone %excinfo, i8* noalias nocapture readnone %env, i64 %arg.a, i64 %arg.b) local_unnamed_addr #0 {\n",
      "entry:\n",
      "  %.15 = add nsw i64 %arg.b, %arg.a\n",
      "  store i64 %.15, i64* %retptr, align 8\n",
      "  ret i32 0\n",
      "}\n",
      "\n",
      "define i8* @\"_ZN7cpython8__main__9somme$242Exx\"(i8* %py_closure, i8* %py_args, i8* nocapture readnone %py_kws) local_unnamed_addr {\n",
      "entry:\n",
      "  %.5 = alloca i8*, align 8\n",
      "  %.6 = alloca i8*, align 8\n",
      "  %.7 = call i32 (i8*, i8*, i64, i64, ...) @PyArg_UnpackTuple(i8* %py_args, i8* getelementptr inbounds ([6 x i8], [6 x i8]* @.const.somme, i64 0, i64 0), i64 2, i64 2, i8** nonnull %.5, i8** nonnull %.6)\n",
      "  %.8 = icmp eq i32 %.7, 0\n",
      "  br i1 %.8, label %entry.if, label %entry.endif, !prof !0\n",
      "\n",
      "entry.if:                                         ; preds = %entry.endif.endif.endif.endif.endif.endif, %entry.endif.endif.endif.endif, %entry\n",
      "  ret i8* null\n",
      "\n",
      "entry.endif:                                      ; preds = %entry\n",
      "  %.12 = icmp eq i8* %py_closure, null\n",
      "  br i1 %.12, label %entry.endif.if, label %entry.endif.endif, !prof !0\n",
      "\n",
      "entry.endif.if:                                   ; preds = %entry.endif\n",
      "  %.14 = call i32 @puts(i8* getelementptr inbounds ([38 x i8], [38 x i8]* @\".const.Fatal error: missing _dynfunc.Closure\", i64 0, i64 0))\n",
      "  unreachable\n",
      "\n",
      "entry.endif.endif:                                ; preds = %entry.endif\n",
      "  %.16 = ptrtoint i8* %py_closure to i64\n",
      "  %.17 = add i64 %.16, 24\n",
      "  %.19 = inttoptr i64 %.17 to { i8* }*\n",
      "  %.201 = bitcast { i8* }* %.19 to i8**\n",
      "  %.21 = load i8*, i8** %.201, align 8\n",
      "  %.26 = icmp eq i8* %.21, null\n",
      "  br i1 %.26, label %entry.endif.endif.if, label %entry.endif.endif.endif, !prof !0\n",
      "\n",
      "entry.endif.endif.if:                             ; preds = %entry.endif.endif\n",
      "  call void @PyErr_SetString(i8* nonnull @PyExc_RuntimeError, i8* getelementptr inbounds ([20 x i8], [20 x i8]* @\".const.missing Environment\", i64 0, i64 0))\n",
      "  ret i8* null\n",
      "\n",
      "entry.endif.endif.endif:                          ; preds = %entry.endif.endif\n",
      "  %.30 = load i8*, i8** %.5, align 8\n",
      "  %.32 = call i8* @PyNumber_Long(i8* %.30)\n",
      "  %.33 = icmp eq i8* %.32, null\n",
      "  br i1 %.33, label %entry.endif.endif.endif.endif, label %entry.endif.endif.endif.if, !prof !0\n",
      "\n",
      "entry.endif.endif.endif.if:                       ; preds = %entry.endif.endif.endif\n",
      "  %.35 = call i64 @PyLong_AsLongLong(i8* nonnull %.32)\n",
      "  call void @Py_DecRef(i8* nonnull %.32)\n",
      "  br label %entry.endif.endif.endif.endif\n",
      "\n",
      "entry.endif.endif.endif.endif:                    ; preds = %entry.endif.endif.endif, %entry.endif.endif.endif.if\n",
      "  %.31.0 = phi i64 [ %.35, %entry.endif.endif.endif.if ], [ undef, %entry.endif.endif.endif ]\n",
      "  %.40 = call i8* @PyErr_Occurred()\n",
      "  %.41 = icmp eq i8* %.40, null\n",
      "  br i1 %.41, label %entry.endif.endif.endif.endif.endif, label %entry.if, !prof !1\n",
      "\n",
      "entry.endif.endif.endif.endif.endif:              ; preds = %entry.endif.endif.endif.endif\n",
      "  %.45 = load i8*, i8** %.6, align 8\n",
      "  %.47 = call i8* @PyNumber_Long(i8* %.45)\n",
      "  %.48 = icmp eq i8* %.47, null\n",
      "  br i1 %.48, label %entry.endif.endif.endif.endif.endif.endif, label %entry.endif.endif.endif.endif.endif.if, !prof !0\n",
      "\n",
      "entry.endif.endif.endif.endif.endif.if:           ; preds = %entry.endif.endif.endif.endif.endif\n",
      "  %.50 = call i64 @PyLong_AsLongLong(i8* nonnull %.47)\n",
      "  call void @Py_DecRef(i8* nonnull %.47)\n",
      "  br label %entry.endif.endif.endif.endif.endif.endif\n",
      "\n",
      "entry.endif.endif.endif.endif.endif.endif:        ; preds = %entry.endif.endif.endif.endif.endif, %entry.endif.endif.endif.endif.endif.if\n",
      "  %.46.0 = phi i64 [ %.50, %entry.endif.endif.endif.endif.endif.if ], [ undef, %entry.endif.endif.endif.endif.endif ]\n",
      "  %.55 = call i8* @PyErr_Occurred()\n",
      "  %.56 = icmp eq i8* %.55, null\n",
      "  br i1 %.56, label %entry.endif.endif.endif.endif.endif.endif.endif, label %entry.if, !prof !1\n",
      "\n",
      "entry.endif.endif.endif.endif.endif.endif.endif:  ; preds = %entry.endif.endif.endif.endif.endif.endif\n",
      "  %.15.i = add nsw i64 %.46.0, %.31.0\n",
      "  %.78 = call i8* @PyLong_FromLongLong(i64 %.15.i)\n",
      "  ret i8* %.78\n",
      "}\n",
      "\n",
      "declare i32 @PyArg_UnpackTuple(i8*, i8*, i64, i64, ...) local_unnamed_addr\n",
      "\n",
      "; Function Attrs: nounwind\n",
      "declare i32 @puts(i8* nocapture readonly) local_unnamed_addr #1\n",
      "\n",
      "declare void @PyErr_SetString(i8*, i8*) local_unnamed_addr\n",
      "\n",
      "declare i8* @PyNumber_Long(i8*) local_unnamed_addr\n",
      "\n",
      "declare i64 @PyLong_AsLongLong(i8*) local_unnamed_addr\n",
      "\n",
      "declare void @Py_DecRef(i8*) local_unnamed_addr\n",
      "\n",
      "declare i8* @PyErr_Occurred() local_unnamed_addr\n",
      "\n",
      "declare i8* @PyLong_FromLongLong(i64) local_unnamed_addr\n",
      "\n",
      "; Function Attrs: nounwind\n",
      "declare void @llvm.stackprotector(i8*, i8**) #1\n",
      "\n",
      "attributes #0 = { norecurse nounwind }\n",
      "attributes #1 = { nounwind }\n",
      "\n",
      "!0 = !{!\"branch_weights\", i32 1, i32 99}\n",
      "!1 = !{!\"branch_weights\", i32 99, i32 1}\n",
      "\n",
      "; ModuleID = 'somme'\n",
      "source_filename = \"<string>\"\n",
      "target datalayout = \"e-m:e-i64:64-f80:128-n8:16:32:64-S128\"\n",
      "target triple = \"x86_64-unknown-linux-gnu\"\n",
      "\n",
      "@.const.somme = internal constant [6 x i8] c\"somme\\00\"\n",
      "@\".const.Fatal error: missing _dynfunc.Closure\" = internal constant [38 x i8] c\"Fatal error: missing _dynfunc.Closure\\00\"\n",
      "@PyExc_RuntimeError = external global i8\n",
      "@\".const.missing Environment\" = internal constant [20 x i8] c\"missing Environment\\00\"\n",
      "\n",
      "; Function Attrs: norecurse nounwind\n",
      "define i32 @\"_ZN8__main__9somme$243Edd\"(double* noalias nocapture %retptr, { i8*, i32 }** noalias nocapture readnone %excinfo, i8* noalias nocapture readnone %env, double %arg.a, double %arg.b) local_unnamed_addr #0 {\n",
      "entry:\n",
      "  %.15 = fadd double %arg.a, %arg.b\n",
      "  store double %.15, double* %retptr, align 8\n",
      "  ret i32 0\n",
      "}\n",
      "\n",
      "define i8* @\"_ZN7cpython8__main__9somme$243Edd\"(i8* %py_closure, i8* %py_args, i8* nocapture readnone %py_kws) local_unnamed_addr {\n",
      "entry:\n",
      "  %.5 = alloca i8*, align 8\n",
      "  %.6 = alloca i8*, align 8\n",
      "  %.7 = call i32 (i8*, i8*, i64, i64, ...) @PyArg_UnpackTuple(i8* %py_args, i8* getelementptr inbounds ([6 x i8], [6 x i8]* @.const.somme, i64 0, i64 0), i64 2, i64 2, i8** nonnull %.5, i8** nonnull %.6)\n",
      "  %.8 = icmp eq i32 %.7, 0\n",
      "  br i1 %.8, label %entry.if, label %entry.endif, !prof !0\n",
      "\n",
      "entry.if:                                         ; preds = %entry.endif.endif.endif.endif, %entry.endif.endif.endif, %entry\n",
      "  ret i8* null\n",
      "\n",
      "entry.endif:                                      ; preds = %entry\n",
      "  %.12 = icmp eq i8* %py_closure, null\n",
      "  br i1 %.12, label %entry.endif.if, label %entry.endif.endif, !prof !0\n",
      "\n",
      "entry.endif.if:                                   ; preds = %entry.endif\n",
      "  %.14 = call i32 @puts(i8* getelementptr inbounds ([38 x i8], [38 x i8]* @\".const.Fatal error: missing _dynfunc.Closure\", i64 0, i64 0))\n",
      "  unreachable\n",
      "\n",
      "entry.endif.endif:                                ; preds = %entry.endif\n",
      "  %.16 = ptrtoint i8* %py_closure to i64\n",
      "  %.17 = add i64 %.16, 24\n",
      "  %.19 = inttoptr i64 %.17 to { i8* }*\n",
      "  %.201 = bitcast { i8* }* %.19 to i8**\n",
      "  %.21 = load i8*, i8** %.201, align 8\n",
      "  %.26 = icmp eq i8* %.21, null\n",
      "  br i1 %.26, label %entry.endif.endif.if, label %entry.endif.endif.endif, !prof !0\n",
      "\n",
      "entry.endif.endif.if:                             ; preds = %entry.endif.endif\n",
      "  call void @PyErr_SetString(i8* nonnull @PyExc_RuntimeError, i8* getelementptr inbounds ([20 x i8], [20 x i8]* @\".const.missing Environment\", i64 0, i64 0))\n",
      "  ret i8* null\n",
      "\n",
      "entry.endif.endif.endif:                          ; preds = %entry.endif.endif\n",
      "  %.30 = load i8*, i8** %.5, align 8\n",
      "  %.31 = call i8* @PyNumber_Float(i8* %.30)\n",
      "  %.32 = call double @PyFloat_AsDouble(i8* %.31)\n",
      "  call void @Py_DecRef(i8* %.31)\n",
      "  %.34 = call i8* @PyErr_Occurred()\n",
      "  %.35 = icmp eq i8* %.34, null\n",
      "  br i1 %.35, label %entry.endif.endif.endif.endif, label %entry.if, !prof !1\n",
      "\n",
      "entry.endif.endif.endif.endif:                    ; preds = %entry.endif.endif.endif\n",
      "  %.39 = load i8*, i8** %.6, align 8\n",
      "  %.40 = call i8* @PyNumber_Float(i8* %.39)\n",
      "  %.41 = call double @PyFloat_AsDouble(i8* %.40)\n",
      "  call void @Py_DecRef(i8* %.40)\n",
      "  %.43 = call i8* @PyErr_Occurred()\n",
      "  %.44 = icmp eq i8* %.43, null\n",
      "  br i1 %.44, label %entry.endif.endif.endif.endif.endif, label %entry.if, !prof !1\n",
      "\n",
      "entry.endif.endif.endif.endif.endif:              ; preds = %entry.endif.endif.endif.endif\n",
      "  %.15.i = fadd double %.32, %.41\n",
      "  %.65 = call i8* @PyFloat_FromDouble(double %.15.i)\n",
      "  ret i8* %.65\n",
      "}\n",
      "\n",
      "declare i32 @PyArg_UnpackTuple(i8*, i8*, i64, i64, ...) local_unnamed_addr\n",
      "\n",
      "; Function Attrs: nounwind\n",
      "declare i32 @puts(i8* nocapture readonly) local_unnamed_addr #1\n",
      "\n",
      "declare void @PyErr_SetString(i8*, i8*) local_unnamed_addr\n",
      "\n",
      "declare i8* @PyNumber_Float(i8*) local_unnamed_addr\n",
      "\n",
      "declare double @PyFloat_AsDouble(i8*) local_unnamed_addr\n",
      "\n",
      "declare void @Py_DecRef(i8*) local_unnamed_addr\n",
      "\n",
      "declare i8* @PyErr_Occurred() local_unnamed_addr\n",
      "\n",
      "declare i8* @PyFloat_FromDouble(double) local_unnamed_addr\n",
      "\n",
      "; Function Attrs: nounwind\n",
      "declare void @llvm.stackprotector(i8*, i8**) #1\n",
      "\n",
      "attributes #0 = { norecurse nounwind }\n",
      "attributes #1 = { nounwind }\n",
      "\n",
      "!0 = !{!\"branch_weights\", i32 1, i32 99}\n",
      "!1 = !{!\"branch_weights\", i32 99, i32 1}\n",
      "\n"
     ]
    }
   ],
   "source": [
    "for k, v in somme.inspect_llvm().items():\n",
    "    print(v)"
   ]
  },
  {
   "cell_type": "markdown",
   "metadata": {},
   "source": [
    "#### inspect_asm\n",
    "\n",
    "Vous pouvez également avoir accès à l'assembleur qui intervient dans la phase finale du processus."
   ]
  },
  {
   "cell_type": "code",
   "execution_count": 11,
   "metadata": {},
   "outputs": [
    {
     "name": "stdout",
     "output_type": "stream",
     "text": [
      "\t.text\n",
      "\t.file\t\"somme\"\n",
      "\t.globl\t_ZN8__main__9somme$242Exx\n",
      "\t.p2align\t4, 0x90\n",
      "\t.type\t_ZN8__main__9somme$242Exx,@function\n",
      "_ZN8__main__9somme$242Exx:\n",
      "\taddq\t%r8, %rcx\n",
      "\tmovq\t%rcx, (%rdi)\n",
      "\txorl\t%eax, %eax\n",
      "\tretq\n",
      ".Lfunc_end0:\n",
      "\t.size\t_ZN8__main__9somme$242Exx, .Lfunc_end0-_ZN8__main__9somme$242Exx\n",
      "\n",
      "\t.globl\t_ZN7cpython8__main__9somme$242Exx\n",
      "\t.p2align\t4, 0x90\n",
      "\t.type\t_ZN7cpython8__main__9somme$242Exx,@function\n",
      "_ZN7cpython8__main__9somme$242Exx:\n",
      "\t.cfi_startproc\n",
      "\tpushq\t%r15\n",
      ".Lcfi0:\n",
      "\t.cfi_def_cfa_offset 16\n",
      "\tpushq\t%r14\n",
      ".Lcfi1:\n",
      "\t.cfi_def_cfa_offset 24\n",
      "\tpushq\t%r12\n",
      ".Lcfi2:\n",
      "\t.cfi_def_cfa_offset 32\n",
      "\tpushq\t%rbx\n",
      ".Lcfi3:\n",
      "\t.cfi_def_cfa_offset 40\n",
      "\tsubq\t$24, %rsp\n",
      ".Lcfi4:\n",
      "\t.cfi_def_cfa_offset 64\n",
      ".Lcfi5:\n",
      "\t.cfi_offset %rbx, -40\n",
      ".Lcfi6:\n",
      "\t.cfi_offset %r12, -32\n",
      ".Lcfi7:\n",
      "\t.cfi_offset %r14, -24\n",
      ".Lcfi8:\n",
      "\t.cfi_offset %r15, -16\n",
      "\tmovq\t%rdi, %rbx\n",
      "\tmovabsq\t$.const.somme, %r10\n",
      "\tmovabsq\t$PyArg_UnpackTuple, %r11\n",
      "\tleaq\t16(%rsp), %r8\n",
      "\tleaq\t8(%rsp), %r9\n",
      "\tmovl\t$2, %edx\n",
      "\tmovl\t$2, %ecx\n",
      "\txorl\t%eax, %eax\n",
      "\tmovq\t%rsi, %rdi\n",
      "\tmovq\t%r10, %rsi\n",
      "\tcallq\t*%r11\n",
      "\ttestl\t%eax, %eax\n",
      "\tje\t.LBB1_1\n",
      "\ttestq\t%rbx, %rbx\n",
      "\tje\t.LBB1_15\n",
      "\tcmpq\t$0, 24(%rbx)\n",
      "\tje\t.LBB1_5\n",
      "\tmovq\t16(%rsp), %rdi\n",
      "\tmovabsq\t$PyNumber_Long, %r15\n",
      "\tcallq\t*%r15\n",
      "\tmovq\t%rax, %rbx\n",
      "\ttestq\t%rbx, %rbx\n",
      "\tje\t.LBB1_7\n",
      "\tmovabsq\t$PyLong_AsLongLong, %rax\n",
      "\tmovq\t%rbx, %rdi\n",
      "\tcallq\t*%rax\n",
      "\tmovq\t%rax, %r14\n",
      "\tmovabsq\t$Py_DecRef, %rax\n",
      "\tmovq\t%rbx, %rdi\n",
      "\tcallq\t*%rax\n",
      ".LBB1_9:\n",
      "\tmovabsq\t$PyErr_Occurred, %r12\n",
      "\tcallq\t*%r12\n",
      "\ttestq\t%rax, %rax\n",
      "\tjne\t.LBB1_1\n",
      "\tmovq\t8(%rsp), %rdi\n",
      "\tcallq\t*%r15\n",
      "\tmovq\t%rax, %rbx\n",
      "\ttestq\t%rbx, %rbx\n",
      "\tje\t.LBB1_11\n",
      "\tmovabsq\t$PyLong_AsLongLong, %rax\n",
      "\tmovq\t%rbx, %rdi\n",
      "\tcallq\t*%rax\n",
      "\tmovq\t%rax, %r15\n",
      "\tmovabsq\t$Py_DecRef, %rax\n",
      "\tmovq\t%rbx, %rdi\n",
      "\tcallq\t*%rax\n",
      ".LBB1_13:\n",
      "\tcallq\t*%r12\n",
      "\ttestq\t%rax, %rax\n",
      "\tjne\t.LBB1_1\n",
      "\taddq\t%r14, %r15\n",
      "\tmovabsq\t$PyLong_FromLongLong, %rax\n",
      "\tmovq\t%r15, %rdi\n",
      "\tcallq\t*%rax\n",
      ".LBB1_2:\n",
      "\taddq\t$24, %rsp\n",
      "\tpopq\t%rbx\n",
      "\tpopq\t%r12\n",
      "\tpopq\t%r14\n",
      "\tpopq\t%r15\n",
      "\tretq\n",
      ".LBB1_5:\n",
      "\tmovabsq\t$PyExc_RuntimeError, %rdi\n",
      "\tmovabsq\t$\".const.missing Environment\", %rsi\n",
      "\tmovabsq\t$PyErr_SetString, %rax\n",
      "\tcallq\t*%rax\n",
      ".LBB1_1:\n",
      "\txorl\t%eax, %eax\n",
      "\tjmp\t.LBB1_2\n",
      ".LBB1_7:\n",
      "\tjmp\t.LBB1_9\n",
      ".LBB1_11:\n",
      "\tjmp\t.LBB1_13\n",
      ".LBB1_15:\n",
      "\tmovabsq\t$\".const.Fatal error: missing _dynfunc.Closure\", %rdi\n",
      "\tmovabsq\t$puts, %rax\n",
      "\tcallq\t*%rax\n",
      ".Lfunc_end1:\n",
      "\t.size\t_ZN7cpython8__main__9somme$242Exx, .Lfunc_end1-_ZN7cpython8__main__9somme$242Exx\n",
      "\t.cfi_endproc\n",
      "\n",
      "\t.type\t.const.somme,@object\n",
      "\t.section\t.rodata,\"a\",@progbits\n",
      ".const.somme:\n",
      "\t.asciz\t\"somme\"\n",
      "\t.size\t.const.somme, 6\n",
      "\n",
      "\t.type\t\".const.Fatal error: missing _dynfunc.Closure\",@object\n",
      "\t.p2align\t4\n",
      "\".const.Fatal error: missing _dynfunc.Closure\":\n",
      "\t.asciz\t\"Fatal error: missing _dynfunc.Closure\"\n",
      "\t.size\t\".const.Fatal error: missing _dynfunc.Closure\", 38\n",
      "\n",
      "\t.type\t\".const.missing Environment\",@object\n",
      "\t.p2align\t4\n",
      "\".const.missing Environment\":\n",
      "\t.asciz\t\"missing Environment\"\n",
      "\t.size\t\".const.missing Environment\", 20\n",
      "\n",
      "\n",
      "\t.section\t\".note.GNU-stack\",\"\",@progbits\n",
      "\n",
      "\t.text\n",
      "\t.file\t\"somme\"\n",
      "\t.globl\t_ZN8__main__9somme$243Edd\n",
      "\t.p2align\t4, 0x90\n",
      "\t.type\t_ZN8__main__9somme$243Edd,@function\n",
      "_ZN8__main__9somme$243Edd:\n",
      "\tvaddsd\t%xmm1, %xmm0, %xmm0\n",
      "\tvmovsd\t%xmm0, (%rdi)\n",
      "\txorl\t%eax, %eax\n",
      "\tretq\n",
      ".Lfunc_end0:\n",
      "\t.size\t_ZN8__main__9somme$243Edd, .Lfunc_end0-_ZN8__main__9somme$243Edd\n",
      "\n",
      "\t.globl\t_ZN7cpython8__main__9somme$243Edd\n",
      "\t.p2align\t4, 0x90\n",
      "\t.type\t_ZN7cpython8__main__9somme$243Edd,@function\n",
      "_ZN7cpython8__main__9somme$243Edd:\n",
      "\t.cfi_startproc\n",
      "\tpushq\t%r15\n",
      ".Lcfi0:\n",
      "\t.cfi_def_cfa_offset 16\n",
      "\tpushq\t%r14\n",
      ".Lcfi1:\n",
      "\t.cfi_def_cfa_offset 24\n",
      "\tpushq\t%r13\n",
      ".Lcfi2:\n",
      "\t.cfi_def_cfa_offset 32\n",
      "\tpushq\t%r12\n",
      ".Lcfi3:\n",
      "\t.cfi_def_cfa_offset 40\n",
      "\tpushq\t%rbx\n",
      ".Lcfi4:\n",
      "\t.cfi_def_cfa_offset 48\n",
      "\tsubq\t$32, %rsp\n",
      ".Lcfi5:\n",
      "\t.cfi_def_cfa_offset 80\n",
      ".Lcfi6:\n",
      "\t.cfi_offset %rbx, -48\n",
      ".Lcfi7:\n",
      "\t.cfi_offset %r12, -40\n",
      ".Lcfi8:\n",
      "\t.cfi_offset %r13, -32\n",
      ".Lcfi9:\n",
      "\t.cfi_offset %r14, -24\n",
      ".Lcfi10:\n",
      "\t.cfi_offset %r15, -16\n",
      "\tmovq\t%rdi, %rbx\n",
      "\tmovabsq\t$.const.somme, %r10\n",
      "\tmovabsq\t$PyArg_UnpackTuple, %r11\n",
      "\tleaq\t24(%rsp), %r8\n",
      "\tleaq\t16(%rsp), %r9\n",
      "\tmovl\t$2, %edx\n",
      "\tmovl\t$2, %ecx\n",
      "\txorl\t%eax, %eax\n",
      "\tmovq\t%rsi, %rdi\n",
      "\tmovq\t%r10, %rsi\n",
      "\tcallq\t*%r11\n",
      "\ttestl\t%eax, %eax\n",
      "\tje\t.LBB1_1\n",
      "\ttestq\t%rbx, %rbx\n",
      "\tje\t.LBB1_9\n",
      "\tcmpq\t$0, 24(%rbx)\n",
      "\tje\t.LBB1_5\n",
      "\tmovq\t24(%rsp), %rdi\n",
      "\tmovabsq\t$PyNumber_Float, %r14\n",
      "\tcallq\t*%r14\n",
      "\tmovq\t%rax, %rbx\n",
      "\tmovabsq\t$PyFloat_AsDouble, %r15\n",
      "\tmovq\t%rbx, %rdi\n",
      "\tcallq\t*%r15\n",
      "\tvmovsd\t%xmm0, 8(%rsp)\n",
      "\tmovabsq\t$Py_DecRef, %r12\n",
      "\tmovq\t%rbx, %rdi\n",
      "\tcallq\t*%r12\n",
      "\tmovabsq\t$PyErr_Occurred, %r13\n",
      "\tcallq\t*%r13\n",
      "\ttestq\t%rax, %rax\n",
      "\tjne\t.LBB1_1\n",
      "\tmovq\t16(%rsp), %rdi\n",
      "\tcallq\t*%r14\n",
      "\tmovq\t%rax, %rbx\n",
      "\tmovq\t%rbx, %rdi\n",
      "\tcallq\t*%r15\n",
      "\tvmovsd\t%xmm0, (%rsp)\n",
      "\tmovq\t%rbx, %rdi\n",
      "\tcallq\t*%r12\n",
      "\tcallq\t*%r13\n",
      "\ttestq\t%rax, %rax\n",
      "\tjne\t.LBB1_1\n",
      "\tvmovsd\t(%rsp), %xmm0\n",
      "\tvaddsd\t8(%rsp), %xmm0, %xmm0\n",
      "\tmovabsq\t$PyFloat_FromDouble, %rax\n",
      "\tcallq\t*%rax\n",
      ".LBB1_2:\n",
      "\taddq\t$32, %rsp\n",
      "\tpopq\t%rbx\n",
      "\tpopq\t%r12\n",
      "\tpopq\t%r13\n",
      "\tpopq\t%r14\n",
      "\tpopq\t%r15\n",
      "\tretq\n",
      ".LBB1_5:\n",
      "\tmovabsq\t$PyExc_RuntimeError, %rdi\n",
      "\tmovabsq\t$\".const.missing Environment\", %rsi\n",
      "\tmovabsq\t$PyErr_SetString, %rax\n",
      "\tcallq\t*%rax\n",
      ".LBB1_1:\n",
      "\txorl\t%eax, %eax\n",
      "\tjmp\t.LBB1_2\n",
      ".LBB1_9:\n",
      "\tmovabsq\t$\".const.Fatal error: missing _dynfunc.Closure\", %rdi\n",
      "\tmovabsq\t$puts, %rax\n",
      "\tcallq\t*%rax\n",
      ".Lfunc_end1:\n",
      "\t.size\t_ZN7cpython8__main__9somme$243Edd, .Lfunc_end1-_ZN7cpython8__main__9somme$243Edd\n",
      "\t.cfi_endproc\n",
      "\n",
      "\t.type\t.const.somme,@object\n",
      "\t.section\t.rodata,\"a\",@progbits\n",
      ".const.somme:\n",
      "\t.asciz\t\"somme\"\n",
      "\t.size\t.const.somme, 6\n",
      "\n",
      "\t.type\t\".const.Fatal error: missing _dynfunc.Closure\",@object\n",
      "\t.p2align\t4\n",
      "\".const.Fatal error: missing _dynfunc.Closure\":\n",
      "\t.asciz\t\"Fatal error: missing _dynfunc.Closure\"\n",
      "\t.size\t\".const.Fatal error: missing _dynfunc.Closure\", 38\n",
      "\n",
      "\t.type\t\".const.missing Environment\",@object\n",
      "\t.p2align\t4\n",
      "\".const.missing Environment\":\n",
      "\t.asciz\t\"missing Environment\"\n",
      "\t.size\t\".const.missing Environment\", 20\n",
      "\n",
      "\n",
      "\t.section\t\".note.GNU-stack\",\"\",@progbits\n",
      "\n"
     ]
    }
   ],
   "source": [
    "for k, v in somme.inspect_asm().items():\n",
    "    print(v)"
   ]
  },
  {
   "cell_type": "markdown",
   "metadata": {},
   "source": [
    "## Rappeler sa fonction Python initiale\n",
    "\n",
    "Il est toujours possibe d'appeler la fonction Python initiale sans la couche Numba."
   ]
  },
  {
   "cell_type": "code",
   "execution_count": 12,
   "metadata": {},
   "outputs": [
    {
     "data": {
      "text/plain": [
       "3"
      ]
     },
     "execution_count": 12,
     "metadata": {},
     "output_type": "execute_result"
    }
   ],
   "source": [
    "somme.py_func(1, 2)"
   ]
  },
  {
   "cell_type": "markdown",
   "metadata": {},
   "source": [
    "## Spécialiser sa fonction pour des types données\n",
    "\n",
    "Si vous utilisez juste **@jit**, Numba créera pour vous une nouvelle fonction dès lors qu'il n'a pas à disposition la fonction compilée avec ces types. Vous pouvez néanmoins avoir envie que votre fonction ne marche que pour certains types et vous renvoie une erreur si les types ne sont pas supportés.\n",
    "\n",
    "Prenons par exemple le produit, nous voulons que celui-ci ne fonctionne que sur des entiers scalaires ou des tableaux 1d d'entiers. "
   ]
  },
  {
   "cell_type": "code",
   "execution_count": 13,
   "metadata": {
    "collapsed": true
   },
   "outputs": [],
   "source": [
    "from numba import jit\n",
    "\n",
    "@jit(['int32[:](int32[:], int32[:])',\n",
    "      'int32(int32, int32)'])\n",
    "def produit(a, b):\n",
    "    return a*b"
   ]
  },
  {
   "cell_type": "code",
   "execution_count": 14,
   "metadata": {},
   "outputs": [
    {
     "data": {
      "text/plain": [
       "6"
      ]
     },
     "execution_count": 14,
     "metadata": {},
     "output_type": "execute_result"
    }
   ],
   "source": [
    "produit(2, 3)"
   ]
  },
  {
   "cell_type": "code",
   "execution_count": 15,
   "metadata": {},
   "outputs": [
    {
     "data": {
      "text/plain": [
       "6"
      ]
     },
     "execution_count": 15,
     "metadata": {},
     "output_type": "execute_result"
    }
   ],
   "source": [
    "produit(3., 2.2)"
   ]
  },
  {
   "cell_type": "code",
   "execution_count": 16,
   "metadata": {},
   "outputs": [
    {
     "data": {
      "text/plain": [
       "array([ 0,  1,  4,  9, 16, 25, 36, 49, 64, 81], dtype=int32)"
      ]
     },
     "execution_count": 16,
     "metadata": {},
     "output_type": "execute_result"
    }
   ],
   "source": [
    "import numpy as np\n",
    "\n",
    "a = np.arange(10, dtype=np.int32)\n",
    "b = np.arange(10, dtype=np.int32)\n",
    "\n",
    "produit(a, b)"
   ]
  },
  {
   "cell_type": "code",
   "execution_count": 17,
   "metadata": {},
   "outputs": [
    {
     "ename": "TypeError",
     "evalue": "No matching definition for argument type(s) array(float64, 1d, C), array(float64, 1d, C)",
     "output_type": "error",
     "traceback": [
      "\u001b[0;31m---------------------------------------------------------------------------\u001b[0m",
      "\u001b[0;31mTypeError\u001b[0m                                 Traceback (most recent call last)",
      "\u001b[0;32m<ipython-input-17-d9841a349ddb>\u001b[0m in \u001b[0;36m<module>\u001b[0;34m()\u001b[0m\n\u001b[1;32m      4\u001b[0m \u001b[0mb\u001b[0m \u001b[0;34m=\u001b[0m \u001b[0mnp\u001b[0m\u001b[0;34m.\u001b[0m\u001b[0mrandom\u001b[0m\u001b[0;34m.\u001b[0m\u001b[0mrandom\u001b[0m\u001b[0;34m(\u001b[0m\u001b[0;36m10\u001b[0m\u001b[0;34m)\u001b[0m\u001b[0;34m\u001b[0m\u001b[0m\n\u001b[1;32m      5\u001b[0m \u001b[0;34m\u001b[0m\u001b[0m\n\u001b[0;32m----> 6\u001b[0;31m \u001b[0mproduit\u001b[0m\u001b[0;34m(\u001b[0m\u001b[0ma\u001b[0m\u001b[0;34m,\u001b[0m \u001b[0mb\u001b[0m\u001b[0;34m)\u001b[0m\u001b[0;34m\u001b[0m\u001b[0m\n\u001b[0m",
      "\u001b[0;32m/home/loic/miniconda3/lib/python3.6/site-packages/numba-0.34.0.dev0+402.g5c099e37f-py3.6-linux-x86_64.egg/numba/dispatcher.py\u001b[0m in \u001b[0;36m_explain_matching_error\u001b[0;34m(self, *args, **kws)\u001b[0m\n\u001b[1;32m    397\u001b[0m         msg = (\"No matching definition for argument type(s) %s\"\n\u001b[1;32m    398\u001b[0m                % ', '.join(map(str, args)))\n\u001b[0;32m--> 399\u001b[0;31m         \u001b[0;32mraise\u001b[0m \u001b[0mTypeError\u001b[0m\u001b[0;34m(\u001b[0m\u001b[0mmsg\u001b[0m\u001b[0;34m)\u001b[0m\u001b[0;34m\u001b[0m\u001b[0m\n\u001b[0m\u001b[1;32m    400\u001b[0m \u001b[0;34m\u001b[0m\u001b[0m\n\u001b[1;32m    401\u001b[0m     \u001b[0;32mdef\u001b[0m \u001b[0m_search_new_conversions\u001b[0m\u001b[0;34m(\u001b[0m\u001b[0mself\u001b[0m\u001b[0;34m,\u001b[0m \u001b[0;34m*\u001b[0m\u001b[0margs\u001b[0m\u001b[0;34m,\u001b[0m \u001b[0;34m**\u001b[0m\u001b[0mkws\u001b[0m\u001b[0;34m)\u001b[0m\u001b[0;34m:\u001b[0m\u001b[0;34m\u001b[0m\u001b[0m\n",
      "\u001b[0;31mTypeError\u001b[0m: No matching definition for argument type(s) array(float64, 1d, C), array(float64, 1d, C)"
     ]
    }
   ],
   "source": [
    "import numpy as np\n",
    "\n",
    "a = np.random.random(10)\n",
    "b = np.random.random(10)\n",
    "\n",
    "produit(a, b)"
   ]
  },
  {
   "cell_type": "markdown",
   "metadata": {},
   "source": [
    "Les types reconnus par Numba sont les suivants\n",
    "\n",
    "- void,\n",
    "- intp, uintp,\n",
    "- intc, uintc,\n",
    "- int8, uint8, int16, uint16, int32, uint32, int64, uint64,\n",
    "- float32, float64,\n",
    "- complex64, complex128.\n",
    "\n",
    "Pour les tableaux, il suffit de préciser chacune des dimensions par le caractère deux points (**:**). Par exemple\n",
    "\n",
    "- float32[:] est un tableau de type float du langage C à une dimension,\n",
    "- float64[:, :] est un tableau de type double du langage C à deux dimensions."
   ]
  },
  {
   "cell_type": "markdown",
   "metadata": {},
   "source": [
    "## Options de compilation\n",
    "\n",
    "Numba permet de mettre certaines directives suplémentaires dans les arguments du décorateur permettant de changer le comportement de la compilation. Pour le décorateur **@jit**, il en existe trois\n",
    "\n",
    "- **nopython** \n",
    "\n",
    "cette option indique qu'il n'y a pas d'objets Python dans la fonction à optimiser et que tout peut donc être fait en bas niveau. Si c'est le cas, le résultat est optimal. Essayez toujours de mettre ce mode. La compilation échouera si la fonction comporte des objets Python.\n",
    "\n",
    "- **nogil** \n",
    "\n",
    "cette option permet de relâcher le Global Interpreter Lock (GIL). Elle est utilisée lorsque l'on veut utiliser la fonction en parallèle en utilisant des threads.\n",
    "\n",
    "- **cache** \n",
    "\n",
    "si vous ne voulez pas que Numba recompile votre fonction à chaque lancement de votre script, vous pouvez utiliser cette fonctionnalité qui met dans un fichier la version optimisée."
   ]
  },
  {
   "cell_type": "markdown",
   "metadata": {},
   "source": [
    "## inlining\n",
    "\n",
    "Il est possible d'appeler des fonctions optimisées par **@jit** à l'intérieur de fonctions faisant également appel à **jit**. Si c'est possible, Numba les remplace alors directement par les lignes de codes associées.\n",
    "\n",
    "Par exemple"
   ]
  },
  {
   "cell_type": "code",
   "execution_count": 18,
   "metadata": {
    "collapsed": true
   },
   "outputs": [],
   "source": [
    "import math\n",
    "from numba import njit\n",
    "\n",
    "@njit\n",
    "def square(x):\n",
    "    return x ** 2\n",
    "\n",
    "@njit\n",
    "def hypot(x, y):\n",
    "    return math.sqrt(square(x) + square(y))"
   ]
  },
  {
   "cell_type": "code",
   "execution_count": 19,
   "metadata": {},
   "outputs": [
    {
     "data": {
      "text/plain": [
       "3.605551275463989"
      ]
     },
     "execution_count": 19,
     "metadata": {},
     "output_type": "execute_result"
    }
   ],
   "source": [
    "hypot(2., 3.)"
   ]
  },
  {
   "cell_type": "code",
   "execution_count": 20,
   "metadata": {},
   "outputs": [
    {
     "name": "stdout",
     "output_type": "stream",
     "text": [
      "\t.text\n",
      "\t.file\t\"hypot\"\n",
      "\t.globl\t_ZN8__main__9hypot$248Edd\n",
      "\t.p2align\t4, 0x90\n",
      "\t.type\t_ZN8__main__9hypot$248Edd,@function\n",
      "_ZN8__main__9hypot$248Edd:\n",
      "\tvmulsd\t%xmm0, %xmm0, %xmm0\n",
      "\tvmulsd\t%xmm1, %xmm1, %xmm1\n",
      "\tvaddsd\t%xmm1, %xmm0, %xmm0\n",
      "\tvsqrtsd\t%xmm0, %xmm0, %xmm0\n",
      "\tvmovsd\t%xmm0, (%rdi)\n",
      "\txorl\t%eax, %eax\n",
      "\tretq\n",
      ".Lfunc_end0:\n",
      "\t.size\t_ZN8__main__9hypot$248Edd, .Lfunc_end0-_ZN8__main__9hypot$248Edd\n",
      "\n",
      "\t.globl\t_ZN7cpython8__main__9hypot$248Edd\n",
      "\t.p2align\t4, 0x90\n",
      "\t.type\t_ZN7cpython8__main__9hypot$248Edd,@function\n",
      "_ZN7cpython8__main__9hypot$248Edd:\n",
      "\t.cfi_startproc\n",
      "\tpushq\t%r15\n",
      ".Lcfi0:\n",
      "\t.cfi_def_cfa_offset 16\n",
      "\tpushq\t%r14\n",
      ".Lcfi1:\n",
      "\t.cfi_def_cfa_offset 24\n",
      "\tpushq\t%r13\n",
      ".Lcfi2:\n",
      "\t.cfi_def_cfa_offset 32\n",
      "\tpushq\t%r12\n",
      ".Lcfi3:\n",
      "\t.cfi_def_cfa_offset 40\n",
      "\tpushq\t%rbx\n",
      ".Lcfi4:\n",
      "\t.cfi_def_cfa_offset 48\n",
      "\tsubq\t$32, %rsp\n",
      ".Lcfi5:\n",
      "\t.cfi_def_cfa_offset 80\n",
      ".Lcfi6:\n",
      "\t.cfi_offset %rbx, -48\n",
      ".Lcfi7:\n",
      "\t.cfi_offset %r12, -40\n",
      ".Lcfi8:\n",
      "\t.cfi_offset %r13, -32\n",
      ".Lcfi9:\n",
      "\t.cfi_offset %r14, -24\n",
      ".Lcfi10:\n",
      "\t.cfi_offset %r15, -16\n",
      "\tmovq\t%rdi, %rbx\n",
      "\tmovabsq\t$.const.hypot, %r10\n",
      "\tmovabsq\t$PyArg_UnpackTuple, %r11\n",
      "\tleaq\t24(%rsp), %r8\n",
      "\tleaq\t16(%rsp), %r9\n",
      "\tmovl\t$2, %edx\n",
      "\tmovl\t$2, %ecx\n",
      "\txorl\t%eax, %eax\n",
      "\tmovq\t%rsi, %rdi\n",
      "\tmovq\t%r10, %rsi\n",
      "\tcallq\t*%r11\n",
      "\ttestl\t%eax, %eax\n",
      "\tje\t.LBB1_1\n",
      "\ttestq\t%rbx, %rbx\n",
      "\tje\t.LBB1_9\n",
      "\tcmpq\t$0, 24(%rbx)\n",
      "\tje\t.LBB1_5\n",
      "\tmovq\t24(%rsp), %rdi\n",
      "\tmovabsq\t$PyNumber_Float, %r14\n",
      "\tcallq\t*%r14\n",
      "\tmovq\t%rax, %rbx\n",
      "\tmovabsq\t$PyFloat_AsDouble, %r15\n",
      "\tmovq\t%rbx, %rdi\n",
      "\tcallq\t*%r15\n",
      "\tvmovsd\t%xmm0, 8(%rsp)\n",
      "\tmovabsq\t$Py_DecRef, %r12\n",
      "\tmovq\t%rbx, %rdi\n",
      "\tcallq\t*%r12\n",
      "\tmovabsq\t$PyErr_Occurred, %r13\n",
      "\tcallq\t*%r13\n",
      "\ttestq\t%rax, %rax\n",
      "\tjne\t.LBB1_1\n",
      "\tmovq\t16(%rsp), %rdi\n",
      "\tcallq\t*%r14\n",
      "\tmovq\t%rax, %rbx\n",
      "\tmovq\t%rbx, %rdi\n",
      "\tcallq\t*%r15\n",
      "\tvmovsd\t%xmm0, (%rsp)\n",
      "\tmovq\t%rbx, %rdi\n",
      "\tcallq\t*%r12\n",
      "\tcallq\t*%r13\n",
      "\ttestq\t%rax, %rax\n",
      "\tjne\t.LBB1_1\n",
      "\tvmovsd\t8(%rsp), %xmm0\n",
      "\tvmulsd\t%xmm0, %xmm0, %xmm0\n",
      "\tvmovsd\t(%rsp), %xmm1\n",
      "\tvmulsd\t%xmm1, %xmm1, %xmm1\n",
      "\tvaddsd\t%xmm1, %xmm0, %xmm0\n",
      "\tvsqrtsd\t%xmm0, %xmm0, %xmm0\n",
      "\tmovabsq\t$PyFloat_FromDouble, %rax\n",
      "\tcallq\t*%rax\n",
      ".LBB1_2:\n",
      "\taddq\t$32, %rsp\n",
      "\tpopq\t%rbx\n",
      "\tpopq\t%r12\n",
      "\tpopq\t%r13\n",
      "\tpopq\t%r14\n",
      "\tpopq\t%r15\n",
      "\tretq\n",
      ".LBB1_5:\n",
      "\tmovabsq\t$PyExc_RuntimeError, %rdi\n",
      "\tmovabsq\t$\".const.missing Environment\", %rsi\n",
      "\tmovabsq\t$PyErr_SetString, %rax\n",
      "\tcallq\t*%rax\n",
      ".LBB1_1:\n",
      "\txorl\t%eax, %eax\n",
      "\tjmp\t.LBB1_2\n",
      ".LBB1_9:\n",
      "\tmovabsq\t$\".const.Fatal error: missing _dynfunc.Closure\", %rdi\n",
      "\tmovabsq\t$puts, %rax\n",
      "\tcallq\t*%rax\n",
      ".Lfunc_end1:\n",
      "\t.size\t_ZN7cpython8__main__9hypot$248Edd, .Lfunc_end1-_ZN7cpython8__main__9hypot$248Edd\n",
      "\t.cfi_endproc\n",
      "\n",
      "\t.type\t.const.hypot,@object\n",
      "\t.section\t.rodata,\"a\",@progbits\n",
      ".const.hypot:\n",
      "\t.asciz\t\"hypot\"\n",
      "\t.size\t.const.hypot, 6\n",
      "\n",
      "\t.type\t\".const.Fatal error: missing _dynfunc.Closure\",@object\n",
      "\t.p2align\t4\n",
      "\".const.Fatal error: missing _dynfunc.Closure\":\n",
      "\t.asciz\t\"Fatal error: missing _dynfunc.Closure\"\n",
      "\t.size\t\".const.Fatal error: missing _dynfunc.Closure\", 38\n",
      "\n",
      "\t.type\t\".const.missing Environment\",@object\n",
      "\t.p2align\t4\n",
      "\".const.missing Environment\":\n",
      "\t.asciz\t\"missing Environment\"\n",
      "\t.size\t\".const.missing Environment\", 20\n",
      "\n",
      "\n",
      "\t.section\t\".note.GNU-stack\",\"\",@progbits\n",
      "\n"
     ]
    }
   ],
   "source": [
    "for k, v in hypot.inspect_asm().items():\n",
    "    print(v)"
   ]
  },
  {
   "cell_type": "markdown",
   "metadata": {},
   "source": [
    "## Exercice\n",
    "\n",
    "Dans toute la suite de ce tutoriel, nous allons optimiser un ensemble de fonctions travaillant sur des splines cubiques. Il ne sera pas nécessaire de connaître les maths qu'il y a derrière et nous ne rentrerons donc pas dans les détails (si ça vous intéresse, vous pouvez suivre ce [lien](http://www.aip.de/groups/soe/local/numres/bookcpdf/c3-3.pdf)).\n",
    "\n",
    "Le choix de cette exercice vient du site [inconvergent](http://inconvergent.net/generative). En prenant une figure géométrique de départ et en y associant une spline cubique passant par un ensemble de points discrétisant celle-ci, il est possible par petites perturbations successives d'avoir de très jolies images. Comme ces deux exemples.\n",
    "\n",
    "![Sand Spline](figures/sandspline.png)\n",
    "\n",
    "Le code source est dicponible [ici](https://github.com/gouarin/cours_numba_2017/blob/master/examples/sandspline/origin.py). L'explication du problème se trouve dans ce [notebook](./spline.ipynb)."
   ]
  },
  {
   "cell_type": "markdown",
   "metadata": {},
   "source": [
    "Lorsque l'on utilise des splines cubiques, il est nécessaire de calculer la dérivée seconde passant par un ensemble de points. La fonction qui permet de les calculer est la suivante."
   ]
  },
  {
   "cell_type": "code",
   "execution_count": 7,
   "metadata": {
    "collapsed": true
   },
   "outputs": [],
   "source": [
    "def cubic_spline(x, y):\n",
    "    n = x.shape[0]\n",
    "    u = np.zeros_like(y)\n",
    "    y2 = np.zeros_like(y)\n",
    "\n",
    "    dif = np.diff(x)\n",
    "    sig = dif[:-1]/(x[2:]-x[:-2])\n",
    "    \n",
    "    u[1:-1] = (y[2:]- y[1:-1])/dif[1:] - (y[1:-1]-y[:-2])/dif[:-1]\n",
    "\n",
    "    for i in range(1, n-1):\n",
    "        p = sig[i-1]*y2[i-1] + 2.\n",
    "        y2[i] = (sig[i-1]-1)/p\n",
    "        u[i] = (6*u[i]/(x[i+1]-x[i-1])-sig[i-1]*u[i-1])/p\n",
    "    \n",
    "    for i in range(n-2, -1, -1):\n",
    "        y2[i] = y2[i]*y2[i+1]+u[i]\n",
    "\n",
    "    return y2"
   ]
  },
  {
   "cell_type": "code",
   "execution_count": 8,
   "metadata": {
    "collapsed": true
   },
   "outputs": [],
   "source": [
    "import numpy as np\n",
    "\n",
    "x = np.random.random(100)\n",
    "y = np.random.random(100)"
   ]
  },
  {
   "cell_type": "code",
   "execution_count": 9,
   "metadata": {},
   "outputs": [
    {
     "name": "stdout",
     "output_type": "stream",
     "text": [
      "204 µs ± 6.82 µs per loop (mean ± std. dev. of 7 runs, 1000 loops each)\n"
     ]
    }
   ],
   "source": [
    "cubic_spline(x, y)\n",
    "%timeit cubic_spline(x, y)"
   ]
  },
  {
   "cell_type": "markdown",
   "metadata": {},
   "source": [
    "#### Exercice 1\n",
    "\n",
    "Essayer d'optimiser cette fonction en mettant juste **@jit**.\n",
    "\n",
    "#### Exercice 2\n",
    "\n",
    "Essayer de mettre **@jit(nopython=True)** ou **@njit**. Qu'en déduisez-vous ?\n",
    "\n",
    "#### Exercice 3\n",
    "\n",
    "Essayer d'améliorer les performances en aidant un peu plus Numba à optimiser cette fonction. Quel est le gain ?"
   ]
  },
  {
   "cell_type": "code",
   "execution_count": 1,
   "metadata": {},
   "outputs": [
    {
     "data": {
      "text/html": [
       "<link href='http://fonts.googleapis.com/css?family=Fenix' rel='stylesheet' type='text/css'>\n",
       "<link href='http://fonts.googleapis.com/css?family=Alegreya+Sans:100,300,400,500,700,800,900,100italic,300italic,400italic,500italic,700italic,800italic,900italic' rel='stylesheet' type='text/css'>\n",
       "<link href='http://fonts.googleapis.com/css?family=Source+Code+Pro:300,400' rel='stylesheet' type='text/css'>\n",
       "<link href=\"https://fonts.googleapis.com/css?family=Oswald|Raleway\" rel=\"stylesheet\" type='text/css'> \n",
       "<style>\n",
       ".prompt{\n",
       "    display: none !important;\n",
       "}\n",
       "\n",
       ".rendered_html pre {\n",
       "    border: 1px solid #f0f6f9 !important;\n",
       "}\n",
       "\n",
       ".rendered_html pre, .rendered_html code {\n",
       "    background-color: #d3d8db !important;\n",
       "    padding: 1% !important;\n",
       "    line-height: 200% !important;\n",
       "    border-radius: 10px !important;\n",
       "}\n",
       "\n",
       "div.input_area {\n",
       "    border-radius: 10px !important;\n",
       "    background-color: #e1e1e6 !important;\n",
       "}\n",
       "\n",
       "div.cell{\n",
       "        width:85% !important;\n",
       "        margin-left:5% !important;\n",
       "        /*margin-right:auto;*/\n",
       "    }\n",
       "    h1, h2, h3, h4, h5 {\n",
       "        font-family: 'Oswald', sans-serif; !important;\n",
       "        font-style: oblique !important;\n",
       "    }\n",
       "    div.text_cell_render{\n",
       "        font-family: 'Raleway', sans-serif; !important;\n",
       "        line-height: 135% !important;\n",
       "        font-size: 120% !important;\n",
       "        width:100%;/*600px;*/\n",
       "        /*margin-left:auto;*/\n",
       "        /*margin-right:auto;*/\n",
       "    }\n",
       "    .CodeMirror{\n",
       "            font-family: \"Source Code Pro\" !important;\n",
       "\t\t\tfont-size: 100% !important;\n",
       "    }\n",
       "    .text_cell_render p{\n",
       "        text-align: justify !important;\n",
       "    }\n",
       "    .text_cell_render h1 {\n",
       "        font-weight: 200 !important;\n",
       "\t\tline-height: 100% !important;\n",
       "        color:#47597A !important;\n",
       "        margin-bottom: 10.em !important;\n",
       "        margin-top: 50.em !important;\n",
       "        padding-bottom: 50.em !important;\n",
       "        padding-top: 50.em !important;\n",
       "        display: block !important;\n",
       "        font-size: 300% !important;\n",
       "        text-align: center !important;\n",
       "        border-bottom: 1px solid #47597A !important;\n",
       "        border-top: 1px solid #47597A !important;\n",
       "    }\n",
       "    .text_cell_render h2 {\n",
       "        font-weight: 200 !important;\n",
       "\tline-height: 100% !important;\n",
       "        color:#47597A !important;\n",
       "        margin-bottom: 0.5em !important;\n",
       "        margin-top: 0.5em !important;\n",
       "        display: block !important;\n",
       "        font-size: 200% !important;\n",
       "        border-bottom: 1px solid #47597A !important;\n",
       "    }\n",
       "    .text_cell_render h3 {\n",
       "        font-weight: 200 !important;\n",
       "\tline-height: 100% !important;\n",
       "        color:#47597A !important;\n",
       "        margin-bottom: 0.5em !important;\n",
       "        margin-top: 0.5em !important;\n",
       "        display: block !important;\n",
       "        font-size: 200% !important;\n",
       "    }\n",
       "    .text_cell_render h4 {\n",
       "        font-style: italic !important;\n",
       "        font-weight: bold !important;\n",
       "\tline-height: 100% !important;\n",
       "        color:#47597A !important;\n",
       "        display: block !important;\n",
       "        font-size: 100% !important;\n",
       "    }\n",
       "    .text_cell_render h5 {\n",
       "        font-weight: 200 !important;\n",
       "\tline-height: 100% !important;\n",
       "        color:#47597A !important;\n",
       "        margin-bottom: 0.5em !important;\n",
       "        margin-top: 0.5em !important;\n",
       "        display: block !important;\n",
       "        font-size: 100% !important;\n",
       "    }\n",
       "    .text_cell_render ul {\n",
       "\tlist-style-type: disc !important;\n",
       "\tcolor:#47597A !important;\n",
       "    }\n",
       "    .warning{\n",
       "        color: rgb( 240, 20, 20 ) !important;\n",
       "        }\n",
       "\n",
       "    .toc-item-num {\n",
       "        display: none;\n",
       "    }\n",
       "  \n",
       "</style>\n",
       "\n",
       "<script>\n",
       "    MathJax.Hub.Config({\n",
       "                        TeX: {\n",
       "                           extensions: [\"AMSmath.js\"],\n",
       "                           },\n",
       "                tex2jax: {\n",
       "                    inlineMath: [ ['$','$'], [\"\\\\(\",\"\\\\)\"] ],\n",
       "                    displayMath: [ ['$$','$$'], [\"\\\\[\",\"\\\\]\"] ]\n",
       "                },\n",
       "                displayAlign: 'center', // Change this to 'center' to center equations.\n",
       "                \"HTML-CSS\": {\n",
       "                    styles: {'.MathJax_Display': {\"margin\": 4}}\n",
       "                }\n",
       "        });\n",
       "</script>\n"
      ],
      "text/plain": [
       "<IPython.core.display.HTML object>"
      ]
     },
     "execution_count": 1,
     "metadata": {},
     "output_type": "execute_result"
    }
   ],
   "source": [
    "# execute this part to modify the css style\n",
    "from IPython.core.display import HTML\n",
    "def css_styling():\n",
    "    styles = open(\"./style/custom.css\").read()\n",
    "    return HTML(styles)\n",
    "css_styling()"
   ]
  },
  {
   "cell_type": "code",
   "execution_count": null,
   "metadata": {
    "collapsed": true
   },
   "outputs": [],
   "source": []
  }
 ],
 "metadata": {
  "kernelspec": {
   "display_name": "Python 3",
   "language": "python",
   "name": "python3"
  },
  "language_info": {
   "codemirror_mode": {
    "name": "ipython",
    "version": 3
   },
   "file_extension": ".py",
   "mimetype": "text/x-python",
   "name": "python",
   "nbconvert_exporter": "python",
   "pygments_lexer": "ipython3",
   "version": "3.6.3"
  }
 },
 "nbformat": 4,
 "nbformat_minor": 2
}
