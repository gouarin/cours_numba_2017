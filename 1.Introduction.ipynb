{
 "cells": [
  {
   "cell_type": "markdown",
   "metadata": {},
   "source": [
    "# Introduction à Numba\n",
    "\n",
    "<img src=\"figures/numba_blue_icon_rgb.png\" alt=\"Drawing\" style=\"width: 20%;\"/>\n",
    "\n",
    "<center>**Loic Gouarin**</center>\n",
    "<center>*8 novembre 2017*</center>"
   ]
  },
  {
   "cell_type": "markdown",
   "metadata": {},
   "source": [
    "Tous les supports de ce cours se trouvent à l'adresse suivante\n",
    "\n",
    "https://github.com/gouarin/cours_numba_2017"
   ]
  },
  {
   "cell_type": "markdown",
   "metadata": {},
   "source": [
    "## Qu'est-ce que Numba ?\n",
    "\n",
    "Numba permet d'optimiser un code numérique écrit en Python en s'appuyant sur LLVM. Il fait du just-un-time, de l'inférence de types et de la compilation de fonctions.\n",
    "\n",
    "- **compilation de fonctions**\n",
    "\n",
    "Numba compile des fonctions Python. Il n'est pas conseillé de compiler l'ensemble d'une application mais uniquement les points chauds que l'on peut identifier en utilisant des outils de profiling. Numba est un module Python comme un autre qui vous permet de rendre une fonction plus rapide.\n",
    "\n",
    "- **inférence de type**\n",
    "\n",
    "Python ne fait pas de typage et est donc générique. Mais ceci a un coût: Python est obligé de vérifier à chaque opération si il peut faire celle-ci en fonction des types donnés. Numba va spécialiser votre fonction pour un certain nombre de types d'entrées ce qui va permettre d'accélérer votre code Python.  \n",
    "\n",
    "- **just-in-time**\n",
    "\n",
    "Numba permet de générer du code optimisé sans phase de compilation (ce qui n'est pas le cas lorsque l'on veut faire de l'ahead-of-time comme nous le verrons par la suite). La génération se fait à chaque premier appel à la fonction ou lorsque les types de données d'entrée changent.\n",
    "\n",
    "- **orienté numérique**\n",
    "\n",
    "Numba ne s'utilise pas sur n'importe quel problème. Il est vraiment orienté calcul numérique et fonctionne bien sur les types de bases int, float, complex. En revanche, quelques difficultés apparaissent lorsque l'on veut travailler sur des chaînes de caractères. Pour avoir les meilleures performances, il est donc recommandé de travailler avec des tableaux NumPy.\n"
   ]
  },
  {
   "cell_type": "markdown",
   "metadata": {},
   "source": [
    "Numba fonctionne sur la plupart des OS\n",
    "\n",
    "1. Windows 7 et suivants, 32 et 64 bits\n",
    "2. macOS 10.9 et suivants, 64 bits\n",
    "3. Linux, 32 et 64 bits\n",
    "\n",
    "et sur les versions Python\n",
    "\n",
    "1. python 2.7, 3.3-3.6\n",
    "2. NumPy 1.8 et suivants\n",
    "\n",
    "et pour différentes architectures\n",
    "\n",
    "1. x86, x86_64/AMD64 CPUs\n",
    "2. NVIDIA CUDA GPUs (Compute capability 3.0 et suivants, CUDA 7.5 et suivant)\n",
    "3. AMD GPUs (expérimental)\n",
    "4. ARM (expérimental)\n",
    "\n",
    "Dans la suite, nous nous intéresserons uniquement aux versions CPUs et GPUs."
   ]
  },
  {
   "cell_type": "markdown",
   "metadata": {},
   "source": [
    "## Installation\n",
    "\n",
    "Le plus simple pour installer Numba est de passer par Anaconda et de taper la commande suivante\n",
    "\n",
    "```bash\n",
    "conda install numba\n",
    "```\n",
    "\n",
    "Si vous voulez mettre à jour votre installation de Numba\n",
    "\n",
    "```bash\n",
    "conda update numba\n",
    "```"
   ]
  },
  {
   "cell_type": "markdown",
   "metadata": {},
   "source": [
    "## Les fonctions fournies\n",
    "\n",
    "Numba s'appuie essentiellement sur trois fonctions\n",
    "\n",
    "- **jit**\n",
    "\n",
    "jit est la fonction centrale et permet d'optimiser n'importe quelle fonction Python.\n",
    "\n",
    "- **vectorize**\n",
    "\n",
    "vectorized prend des scalaires en entrée et est utilisé pour la création d'[ufuncs](https://docs.scipy.org/doc/numpy/reference/ufuncs.html) NumPy. Les ufuncs travaillent élément par élément. La plupart des ufuncs NumPy sont écrites en C. L'avantage avec Numba est que vous pouvez créer vos propres ufuncs sans passer par le langage C et créer ainsi des fonctions qui peuvent devenir assez complexes.\n",
    "\n",
    "- **guvectorize**\n",
    "\n",
    "guvectorize est une version étendue de vectorize. Au lieu de travailler élément par élément, vous donnez en paramètres de votre fonction des tableaux qui peuvent être des entrées ou des sorties. Les dimensions peuvent être différentes étant donné que vous n'avez plus la contrainte élément par élément.\n",
    "\n",
    "L'appel à ces fonctions se font via des décorateurs Python."
   ]
  },
  {
   "cell_type": "markdown",
   "metadata": {},
   "source": [
    "## Qu'est-ce qu'un décorateur en Python ?\n",
    "\n",
    "Les décorateurs en Python permettent de modifier le comportement par défaut de fonctions ou de classes décorées. C'est au décorateur de spécifier comment la fonction sera appelée.\n",
    "\n",
    "En voici un exemple simple"
   ]
  },
  {
   "cell_type": "code",
   "execution_count": 7,
   "metadata": {},
   "outputs": [
    {
     "name": "stdout",
     "output_type": "stream",
     "text": [
      "******************************\n",
      "appel de la fonction f\n",
      "******************************\n",
      "3\n"
     ]
    }
   ],
   "source": [
    "def qui(function):\n",
    "    def wrapper(*args, **kargs):\n",
    "        print('*'*30)\n",
    "        print('appel de la fonction {}'.format(function.__name__))\n",
    "        print('*'*30)\n",
    "        return function(*args, **kargs)\n",
    "    return wrapper\n",
    "\n",
    "@qui\n",
    "def f(a, b):\n",
    "    return a + b\n",
    "\n",
    "print(f(1, 2))"
   ]
  },
  {
   "cell_type": "markdown",
   "metadata": {},
   "source": [
    "Il est possible d'enchaîner les décorateurs."
   ]
  },
  {
   "cell_type": "code",
   "execution_count": 12,
   "metadata": {
    "collapsed": true
   },
   "outputs": [],
   "source": [
    "def timeit(function):\n",
    "    def wrapper(*args, **kargs):\n",
    "        import time\n",
    "        t1 = time.time()\n",
    "        result = function(*args, **kargs)\n",
    "        t2 = time.time()\n",
    "        print(\"execution time\", t2-t1)\n",
    "        return result\n",
    "    return wrapper"
   ]
  },
  {
   "cell_type": "code",
   "execution_count": 14,
   "metadata": {},
   "outputs": [
    {
     "name": "stdout",
     "output_type": "stream",
     "text": [
      "******************************\n",
      "appel de la fonction wrapper\n",
      "******************************\n",
      "execution time 3.5762786865234375e-06\n",
      "3\n"
     ]
    }
   ],
   "source": [
    "@qui\n",
    "@timeit\n",
    "def f(a, b):\n",
    "    return a + b\n",
    "\n",
    "print(f(1, 2))"
   ]
  },
  {
   "cell_type": "markdown",
   "metadata": {},
   "source": [
    "## Premier cas d'usage\n",
    "\n",
    "Comme dit précédemment, Numba s'utilise àl'aide de décorateurs. Il est possible de mettre différentes options lors de l'appel aux décorateurs mais nous verrons ça dans la suite lorsque nous aborderons plus en profondeur chacune des fonctionnalités.\n",
    "\n",
    "Voici donc un exemple simple pour utiliser Numba."
   ]
  },
  {
   "cell_type": "code",
   "execution_count": 2,
   "metadata": {
    "collapsed": true
   },
   "outputs": [],
   "source": [
    "from numba import jit\n",
    "\n",
    "@jit\n",
    "def sum(a, b):\n",
    "    return a + b"
   ]
  },
  {
   "cell_type": "code",
   "execution_count": 4,
   "metadata": {},
   "outputs": [
    {
     "name": "stdout",
     "output_type": "stream",
     "text": [
      "3\n",
      "(2+1j)\n"
     ]
    }
   ],
   "source": [
    "print(sum(1, 2))\n",
    "print(sum(1j, 2))"
   ]
  },
  {
   "cell_type": "code",
   "execution_count": 5,
   "metadata": {},
   "outputs": [
    {
     "name": "stdout",
     "output_type": "stream",
     "text": [
      "[ 0.81123154  1.08796021  1.2178957   0.3011276   1.02005484  0.36610985\n",
      "  1.06050852  1.24070727  0.91881875  1.43708172]\n"
     ]
    }
   ],
   "source": [
    "import numpy as np\n",
    "x = np.random.rand(10)\n",
    "y = np.random.rand(10)\n",
    "print(sum(x, y))"
   ]
  },
  {
   "cell_type": "markdown",
   "metadata": {},
   "source": [
    "## Comment ça marche ?\n",
    "\n",
    "Numba s'appuie sur LLVM. LLVM permet d'avoir un outil commun à différents langages en proposant une représentation intermédiaire. En s'appuyant sur cette représentation, LLVM utilise un outil d'optimisation permettant d'accélérer des parties du code. Il génére ensuite le code machine pour plusieurs architectures (X86, ARM, PTX, ...).\n",
    "\n",
    "![Numba Flowchart](figures/LLVM_base.png)\n",
    "\n",
    "Numba se sert donc de ce principe. Lorsque vous appelez la fonction à optimiser via jit, il fournit une représentation intermédiare qu'il passe à LLVM qui suit ensuite le processus décrit précédemment.\n",
    "\n",
    "![Numba Flowchart](figures/LLVM_numba.png)"
   ]
  },
  {
   "cell_type": "markdown",
   "metadata": {},
   "source": [
    "Nous allons à présent aller un peu plus profondément dans les fonctionnalités de Numba."
   ]
  },
  {
   "cell_type": "code",
   "execution_count": 1,
   "metadata": {},
   "outputs": [
    {
     "data": {
      "text/html": [
       "<link href='http://fonts.googleapis.com/css?family=Fenix' rel='stylesheet' type='text/css'>\n",
       "<link href='http://fonts.googleapis.com/css?family=Alegreya+Sans:100,300,400,500,700,800,900,100italic,300italic,400italic,500italic,700italic,800italic,900italic' rel='stylesheet' type='text/css'>\n",
       "<link href='http://fonts.googleapis.com/css?family=Source+Code+Pro:300,400' rel='stylesheet' type='text/css'>\n",
       "<link href=\"https://fonts.googleapis.com/css?family=Oswald|Raleway\" rel=\"stylesheet\" type='text/css'> \n",
       "<style>\n",
       ".prompt{\n",
       "    display: none !important;\n",
       "}\n",
       "\n",
       ".rendered_html pre {\n",
       "    border: 1px solid #f0f6f9 !important;\n",
       "}\n",
       "\n",
       ".rendered_html pre, .rendered_html code {\n",
       "    background-color: #d3d8db !important;\n",
       "    padding: 1% !important;\n",
       "    line-height: 200% !important;\n",
       "    border-radius: 10px !important;\n",
       "}\n",
       "\n",
       "div.input_area {\n",
       "    border-radius: 10px !important;\n",
       "    background-color: #e1e1e6 !important;\n",
       "}\n",
       "\n",
       "div.cell{\n",
       "        width:85% !important;\n",
       "        margin-left:5% !important;\n",
       "        /*margin-right:auto;*/\n",
       "    }\n",
       "    h1, h2, h3, h4, h5 {\n",
       "        font-family: 'Oswald', sans-serif; !important;\n",
       "        font-style: oblique !important;\n",
       "    }\n",
       "    div.text_cell_render{\n",
       "        font-family: 'Raleway', sans-serif; !important;\n",
       "        line-height: 135% !important;\n",
       "        font-size: 120% !important;\n",
       "        width:100%;/*600px;*/\n",
       "        /*margin-left:auto;*/\n",
       "        /*margin-right:auto;*/\n",
       "    }\n",
       "    .CodeMirror{\n",
       "            font-family: \"Source Code Pro\" !important;\n",
       "\t\t\tfont-size: 100% !important;\n",
       "    }\n",
       "    .text_cell_render p{\n",
       "        text-align: justify !important;\n",
       "    }\n",
       "    .text_cell_render h1 {\n",
       "        font-weight: 200 !important;\n",
       "\t\tline-height: 100% !important;\n",
       "        color:#47597A !important;\n",
       "        margin-bottom: 10.em !important;\n",
       "        margin-top: 50.em !important;\n",
       "        padding-bottom: 50.em !important;\n",
       "        padding-top: 50.em !important;\n",
       "        display: block !important;\n",
       "        font-size: 300% !important;\n",
       "        text-align: center !important;\n",
       "        border-bottom: 1px solid #47597A !important;\n",
       "        border-top: 1px solid #47597A !important;\n",
       "    }\n",
       "    .text_cell_render h2 {\n",
       "        font-weight: 200 !important;\n",
       "\tline-height: 100% !important;\n",
       "        color:#47597A !important;\n",
       "        margin-bottom: 0.5em !important;\n",
       "        margin-top: 0.5em !important;\n",
       "        display: block !important;\n",
       "        font-size: 200% !important;\n",
       "        border-bottom: 1px solid #47597A !important;\n",
       "    }\n",
       "    .text_cell_render h3 {\n",
       "        font-weight: 200 !important;\n",
       "\tline-height: 100% !important;\n",
       "        color:#47597A !important;\n",
       "        margin-bottom: 0.5em !important;\n",
       "        margin-top: 0.5em !important;\n",
       "        display: block !important;\n",
       "        font-size: 200% !important;\n",
       "    }\n",
       "    .text_cell_render h4 {\n",
       "        font-style: italic !important;\n",
       "        font-weight: bold !important;\n",
       "\tline-height: 100% !important;\n",
       "        color:#47597A !important;\n",
       "        display: block !important;\n",
       "        font-size: 100% !important;\n",
       "    }\n",
       "    .text_cell_render h5 {\n",
       "        font-weight: 200 !important;\n",
       "\tline-height: 100% !important;\n",
       "        color:#47597A !important;\n",
       "        margin-bottom: 0.5em !important;\n",
       "        margin-top: 0.5em !important;\n",
       "        display: block !important;\n",
       "        font-size: 100% !important;\n",
       "    }\n",
       "    .text_cell_render ul {\n",
       "\tlist-style-type: disc !important;\n",
       "\tcolor:#47597A !important;\n",
       "    }\n",
       "    .warning{\n",
       "        color: rgb( 240, 20, 20 ) !important;\n",
       "        }\n",
       "</style>\n",
       "\n",
       "<script>\n",
       "    MathJax.Hub.Config({\n",
       "                        TeX: {\n",
       "                           extensions: [\"AMSmath.js\"],\n",
       "                           },\n",
       "                tex2jax: {\n",
       "                    inlineMath: [ ['$','$'], [\"\\\\(\",\"\\\\)\"] ],\n",
       "                    displayMath: [ ['$$','$$'], [\"\\\\[\",\"\\\\]\"] ]\n",
       "                },\n",
       "                displayAlign: 'center', // Change this to 'center' to center equations.\n",
       "                \"HTML-CSS\": {\n",
       "                    styles: {'.MathJax_Display': {\"margin\": 4}}\n",
       "                }\n",
       "        });\n",
       "</script>\n"
      ],
      "text/plain": [
       "<IPython.core.display.HTML object>"
      ]
     },
     "execution_count": 1,
     "metadata": {},
     "output_type": "execute_result"
    }
   ],
   "source": [
    "# execute this part to modify the css style\n",
    "from IPython.core.display import HTML\n",
    "def css_styling():\n",
    "    styles = open(\"./style/custom.css\").read()\n",
    "    return HTML(styles)\n",
    "css_styling()"
   ]
  }
 ],
 "metadata": {
  "kernelspec": {
   "display_name": "Python 3",
   "language": "python",
   "name": "python3"
  },
  "language_info": {
   "codemirror_mode": {
    "name": "ipython",
    "version": 3
   },
   "file_extension": ".py",
   "mimetype": "text/x-python",
   "name": "python",
   "nbconvert_exporter": "python",
   "pygments_lexer": "ipython3",
   "version": "3.6.3"
  }
 },
 "nbformat": 4,
 "nbformat_minor": 2
}
