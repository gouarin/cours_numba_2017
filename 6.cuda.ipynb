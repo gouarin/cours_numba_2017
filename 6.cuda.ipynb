{
 "cells": [
  {
   "cell_type": "markdown",
   "metadata": {},
   "source": [
    "# Numba et cuda\n",
    "\n",
    "<img src=\"figures/numba_blue_icon_rgb.png\" alt=\"Drawing\" style=\"width: 20%;\"/>\n",
    "\n",
    "<center>**Loic Gouarin**</center>\n",
    "<center>*8 novembre 2017*</center>\n",
    "\n",
    "L'une des forces de Numba est de pouvoir utiliser les mêmes principes que précédemment pour pouvoir développer rapidement des kernels pouvant tourner sur des cartes GPU. Nous allons voir dans la suite avec quelle simplicité nous pouvons faire du Python et laisser Numba générer les kernels cuda.\n",
    "\n",
    "Il est néanmoins nécessaire d'avoir quelques connaissances sur l'architecture d'un GPU afin de tirer partie de toutes les performances possibles. Voici comment est constituée une carte GPU\n",
    "\n",
    "![cuda](figures/cuda_1.gif)\n",
    "![cuda](figures/cuda_memory.jpg)\n",
    "\n",
    "Il est important de noter que vous n'aurez pas toutes les fonctionalités que peut offrir cuda. Par exemple, vous ne pouvez pas pour le moment transférer des données sur la mémoire texture, ni faire du parallélisme dynamique.\n",
    "\n",
    "Afin d'utiliser toutes les méthodes pour l'utilisation de cuda dans Numba, il suffit d'importer"
   ]
  },
  {
   "cell_type": "code",
   "execution_count": 1,
   "metadata": {
    "collapsed": true
   },
   "outputs": [],
   "source": [
    "from numba import cuda"
   ]
  },
  {
   "cell_type": "markdown",
   "metadata": {},
   "source": [
    "De là, vous avez accès à un jit et à différentes fonctionalités que nous allons décrire dans la suite. \n",
    "\n",
    "Prenons un premier exemple qui réalise la somme de deux vecteurs."
   ]
  },
  {
   "cell_type": "code",
   "execution_count": 2,
   "metadata": {
    "collapsed": true
   },
   "outputs": [],
   "source": [
    "@cuda.jit\n",
    "def somme(a, b, c):\n",
    "    i = cuda.threadIdx.x + cuda.blockIdx.x*cuda.blockDim.x\n",
    "    if i < a.size:\n",
    "        c[i] = a[i] + b[i]    "
   ]
  },
  {
   "cell_type": "markdown",
   "metadata": {},
   "source": [
    "Numba permet de récupérer les identifiants des threads, des blocs et la dimension des blocs via cuda.threadIdx.x, cuda.blockIdx.x et cuda.blockDim.x ce qui est classique si vous connaissez un peu le langage cuda. Nous travaillons ici en 1d mais nous avons également accès à cuda.threadIdx.y(z), cuda.blockIdx.y(z) et cuda.blockDim.y(z) pour travailler en 2d ou 3d."
   ]
  },
  {
   "cell_type": "markdown",
   "metadata": {},
   "source": [
    "Maintenant que nous avons notre kernel, nous devons définir le nombre de threads par bloc et le nombre de blocs qui sont étroitement liés à nos paramètres d'entrée."
   ]
  },
  {
   "cell_type": "code",
   "execution_count": 3,
   "metadata": {
    "collapsed": true
   },
   "outputs": [],
   "source": [
    "import numpy as np\n",
    "a = np.random.random(1000)\n",
    "b = np.random.random(1000)\n",
    "c = np.zeros_like(a)\n",
    "\n",
    "threadsperblock = 128\n",
    "blockspergrid = (a.size + (threadsperblock - 1)) // threadsperblock"
   ]
  },
  {
   "cell_type": "markdown",
   "metadata": {},
   "source": [
    "Il suffit à présent d'appeler le kernel avec ces informations."
   ]
  },
  {
   "cell_type": "code",
   "execution_count": 4,
   "metadata": {
    "collapsed": true
   },
   "outputs": [],
   "source": [
    "somme[blockspergrid, threadsperblock](a, b, c)"
   ]
  },
  {
   "cell_type": "markdown",
   "metadata": {},
   "source": [
    "Vérifions que le résultat est correct."
   ]
  },
  {
   "cell_type": "code",
   "execution_count": 5,
   "metadata": {},
   "outputs": [
    {
     "data": {
      "text/plain": [
       "True"
      ]
     },
     "execution_count": 5,
     "metadata": {},
     "output_type": "execute_result"
    }
   ],
   "source": [
    "np.all(c == a+b)"
   ]
  },
  {
   "cell_type": "markdown",
   "metadata": {},
   "source": [
    "On pourra constater que nous n'avons à aucun moment transféré les données du CPU (appelé host) au GPU (appelé device). Numba s'est chargé de le faire à l'appel de la fonction. De même qu'il a récupéré les données du GPU pour pouvoir ensuite avoir les valeurs de c.\n",
    "\n",
    "Nous verrons par la suite que nous pouvons gérer nous même la mémoire (copie de données host vers device et device vers host). Ce qui peut-être plus intéressant lorsque l'on cherche à avoir des performances: plus les données restent sur le device et mieux c'est !!"
   ]
  },
  {
   "cell_type": "markdown",
   "metadata": {},
   "source": [
    "Numba offre la possibilité d'avoir les coordonnées absolues dans la grille par l'opérateur *grid(ndim)*. Nous pourrions réécrire l'exemple précédent par"
   ]
  },
  {
   "cell_type": "code",
   "execution_count": 6,
   "metadata": {
    "collapsed": true
   },
   "outputs": [],
   "source": [
    "@cuda.jit\n",
    "def somme(a, b, c):\n",
    "    i = cuda.grid(1) # cuda.threadIdx.x + cuda.blockIdx.x*cuda.blockDim.x\n",
    "    if i < a.size:\n",
    "        c[i] = a[i] + b[i]"
   ]
  },
  {
   "cell_type": "markdown",
   "metadata": {},
   "source": [
    "## Gestion de la mémoire\n",
    "\n",
    "Numba offre différentes fonctions pour gérer la mémoire\n",
    "\n",
    "- copier un tableau du host vers le device\n",
    "- copier un tableau du device vers le host\n",
    "- créer des tableaux directement sur le device"
   ]
  },
  {
   "cell_type": "markdown",
   "metadata": {},
   "source": [
    "#### Copier un tableau du host vers le device"
   ]
  },
  {
   "cell_type": "code",
   "execution_count": 7,
   "metadata": {
    "collapsed": true
   },
   "outputs": [],
   "source": [
    "a = np.zeros(1000)\n",
    "d_a = cuda.to_device(a)"
   ]
  },
  {
   "cell_type": "code",
   "execution_count": 8,
   "metadata": {},
   "outputs": [
    {
     "data": {
      "text/plain": [
       "(1000,)"
      ]
     },
     "execution_count": 8,
     "metadata": {},
     "output_type": "execute_result"
    }
   ],
   "source": [
    "d_a.shape"
   ]
  },
  {
   "cell_type": "code",
   "execution_count": 9,
   "metadata": {},
   "outputs": [
    {
     "data": {
      "text/plain": [
       "dtype('float64')"
      ]
     },
     "execution_count": 9,
     "metadata": {},
     "output_type": "execute_result"
    }
   ],
   "source": [
    "d_a.dtype"
   ]
  },
  {
   "cell_type": "markdown",
   "metadata": {},
   "source": [
    "#### Copier un tableau du device vers le host"
   ]
  },
  {
   "cell_type": "code",
   "execution_count": 10,
   "metadata": {
    "collapsed": true
   },
   "outputs": [],
   "source": [
    "a = d_a.copy_to_host()"
   ]
  },
  {
   "cell_type": "markdown",
   "metadata": {},
   "source": [
    "#### Créer un tableau sur le device\n",
    "\n",
    "Lorsque vous créez un tableau sur le device, celui-ci à sa place allouée mais n'est pas initialisé (il faut le voir comme si vous faisiez un numpy.empty). "
   ]
  },
  {
   "cell_type": "code",
   "execution_count": 11,
   "metadata": {
    "collapsed": true
   },
   "outputs": [],
   "source": [
    "d_a = cuda.device_array(100)"
   ]
  },
  {
   "cell_type": "code",
   "execution_count": 12,
   "metadata": {
    "collapsed": true
   },
   "outputs": [],
   "source": [
    "d_b = cuda.device_array_like(b)"
   ]
  },
  {
   "cell_type": "markdown",
   "metadata": {},
   "source": [
    "Reprenons notre exemple précédent. Pour faire la somme de deux vecteurs, nous devons copier a et b sur le device. En revanche, le résultat c n'est utile que sur le device et peut être ensuite rappatrié sur le host.\n",
    "\n",
    "Voici ce que ça donne avec une bonne gestion de la mémoire"
   ]
  },
  {
   "cell_type": "code",
   "execution_count": 13,
   "metadata": {
    "collapsed": true
   },
   "outputs": [],
   "source": [
    "import numpy as np\n",
    "a = np.random.random(10000)\n",
    "b = np.random.random(10000)\n",
    "d_c = cuda.device_array_like(a)\n",
    "\n",
    "d_a = cuda.to_device(a)\n",
    "d_b = cuda.to_device(b)\n",
    "\n",
    "somme[blockspergrid, threadsperblock](d_a, d_b, d_c)\n",
    "\n",
    "c = d_c.copy_to_host()"
   ]
  },
  {
   "cell_type": "markdown",
   "metadata": {},
   "source": [
    "Quel est le gain attendu ? Pour cet exemple, il faut juste voir qu'on évite 3 transferts entre le host et le device:\n",
    "\n",
    "- c n'est pas copier du host vers le device\n",
    "- a et b ne sont pas récupérés à la fin du device"
   ]
  },
  {
   "cell_type": "markdown",
   "metadata": {},
   "source": [
    "## Cas du produit matrice-matrice\n",
    "\n",
    "Nous allons prendre un exemple simple afin d'expliquer un peu mieux la façon d'obtenir de bonnes performances lorsque l'on veut calculer sur une carte graphique.\n",
    "\n",
    "Nous souhaitons donc réaliser un produit matriciel et mettre le résultat dans une autre matrice.\n",
    "\n",
    "Une version naïve peut être"
   ]
  },
  {
   "cell_type": "code",
   "execution_count": 14,
   "metadata": {
    "collapsed": true
   },
   "outputs": [],
   "source": [
    "@cuda.jit\n",
    "def matmul(A, B, C):\n",
    "    \"\"\"Perform square matrix multiplication of C = A * B\n",
    "    \"\"\"\n",
    "    i, j = cuda.grid(2)\n",
    "    if i < C.shape[0] and j < C.shape[1]:\n",
    "        tmp = 0.\n",
    "        for k in range(A.shape[1]):\n",
    "            tmp += A[i, k] * B[k, j]\n",
    "        C[i, j] = tmp"
   ]
  },
  {
   "cell_type": "markdown",
   "metadata": {},
   "source": [
    "Initialisons le problème afin de tester notre kernel."
   ]
  },
  {
   "cell_type": "code",
   "execution_count": 15,
   "metadata": {
    "collapsed": true
   },
   "outputs": [],
   "source": [
    "n = 1024\n",
    "A = np.random.rand(n, n)\n",
    "B = np.random.rand(n, n)\n",
    "\n",
    "d_A = cuda.to_device(A)\n",
    "d_B = cuda.to_device(B)\n",
    "\n",
    "d_C = cuda.device_array_like(A)\n",
    "\n",
    "TPB = 16\n",
    "BPG = (n + TPB - 1) // TPB"
   ]
  },
  {
   "cell_type": "markdown",
   "metadata": {},
   "source": [
    "Nous procédons de la même manière que précédemment pour obtenir le temps de calcul."
   ]
  },
  {
   "cell_type": "code",
   "execution_count": 16,
   "metadata": {},
   "outputs": [
    {
     "name": "stdout",
     "output_type": "stream",
     "text": [
      "The slowest run took 435.37 times longer than the fastest. This could mean that an intermediate result is being cached.\n",
      "1 loop, best of 3: 833 µs per loop\n"
     ]
    }
   ],
   "source": [
    "%timeit matmul[(BPG, BPG), (TPB, TPB)](d_A, d_B, d_C)"
   ]
  },
  {
   "cell_type": "markdown",
   "metadata": {},
   "source": [
    "Vous devriez constater que c'est très rapide (peut-être un peu trop rapide ...).\n",
    "\n",
    "#### Calcul des performances\n",
    "\n",
    "Lorsque l'on calcule les performances d'un kernel GPU, il faut être très vigilant. Lorsque vous appelez votre fonction, Numba vous rend tout de suite la main pour pouvoir continuer à faire des calculs sur le CPU (ce qui permet d'avoir un recouvrement des calculs entre le CPU et le GPU). Donc tant que vous ne cherchez pas à récupérer les données de la carte, le calcul se fait en arrière plan sans synchronisation.\n",
    "\n",
    "Afin de calculer correctement le temps de calcul, il est nécessaire de demander une synchronisation qui nous dit que tant que le calcul sur le GPU n'est pas terminé, nous n'allons pas plus loin."
   ]
  },
  {
   "cell_type": "code",
   "execution_count": 17,
   "metadata": {},
   "outputs": [
    {
     "name": "stdout",
     "output_type": "stream",
     "text": [
      "10 loops, best of 3: 121 ms per loop\n"
     ]
    }
   ],
   "source": [
    "%timeit matmul[(BPG, BPG), (TPB, TPB)](d_A, d_B, d_C); cuda.synchronize()"
   ]
  },
  {
   "cell_type": "code",
   "execution_count": 18,
   "metadata": {},
   "outputs": [
    {
     "data": {
      "text/plain": [
       "True"
      ]
     },
     "execution_count": 18,
     "metadata": {},
     "output_type": "execute_result"
    }
   ],
   "source": [
    "np.allclose(d_C.copy_to_host(), A@B)"
   ]
  },
  {
   "cell_type": "markdown",
   "metadata": {},
   "source": [
    "Voilà qui semble plus raisonnable. Nous allons à présent voir comment optimiser ce kernel. La démarche est souvent la même. Il est coûteux d'aller chercher les données sur la mémoire globale. Or lors de la mutlplication, nous allons souvent chercher les mêmes valeurs des matrices A et B. \n",
    "\n",
    "#### Mémoire partagée\n",
    "\n",
    "Les cartes GPU sont dotées de mémoires partagées accessibles par l'ensemble des threads d'un même bloc. Numba permet d'allouer de la mémoire dans cet espace via"
   ]
  },
  {
   "cell_type": "code",
   "execution_count": null,
   "metadata": {
    "collapsed": true
   },
   "outputs": [],
   "source": [
    "cuda.shared.array(shape, dtype)"
   ]
  },
  {
   "cell_type": "markdown",
   "metadata": {},
   "source": [
    "Le produit matrice-matrice peut donc être découpé en deux étapes\n",
    "\n",
    "- l'ensemble des threads d'un même bloc met les blocs des matrices A et B dans la mémoire partagée\n",
    "- on fait le calcul permettant de calculer un bout de C\n",
    "\n",
    "La figure suivante résume la procédure\n",
    "\n",
    "![matmult](figures/matrix-multiplication-with-shared-memory.png)\n",
    "\n",
    "#### Synchronisation\n",
    "\n",
    "Il est très important de remarquer que la deuxième phase ne peut se faire que lorsque l'ensemble des threads ont écrit leur partie dans le tableau partagé. Il est donc nécessaire de s'assurer que le tableau est prêt. Pour se faire, nous avons besoin de faire une synchronisation indiquant à l'ensemble des threads d'attendre temps que tout le monde n'est pas là. Pour se faire, on utilisera la fonction Numba suivante"
   ]
  },
  {
   "cell_type": "code",
   "execution_count": null,
   "metadata": {
    "collapsed": true
   },
   "outputs": [],
   "source": [
    "cuda.syncthreads()"
   ]
  },
  {
   "cell_type": "markdown",
   "metadata": {},
   "source": [
    "Le kernel optimisé peut s'écrire"
   ]
  },
  {
   "cell_type": "code",
   "execution_count": 21,
   "metadata": {
    "collapsed": true
   },
   "outputs": [],
   "source": [
    "from numba import float64\n",
    "\n",
    "@cuda.jit\n",
    "def fast_matmul(A, B, C):\n",
    "    # Define an array in the shared memory\n",
    "    # The size and type of the arrays must be known at compile time\n",
    "    sA = cuda.shared.array(shape=(TPB, TPB), dtype=float64)\n",
    "    sB = cuda.shared.array(shape=(TPB, TPB), dtype=float64)\n",
    "\n",
    "    x, y = cuda.grid(2)\n",
    "\n",
    "    tx = cuda.threadIdx.x\n",
    "    ty = cuda.threadIdx.y\n",
    "    bpg = cuda.gridDim.x    # blocks per grid\n",
    "\n",
    "    # Each thread computes one element in the result matrix.\n",
    "    # The dot product is chunked into dot products of TPB-long vectors.\n",
    "    tmp = 0.\n",
    "    for i in range(bpg):\n",
    "        # Preload data into shared memory\n",
    "        sA[tx, ty] = A[x, ty + i * TPB]\n",
    "        sB[tx, ty] = B[tx + i * TPB, y]\n",
    "            \n",
    "        # Wait until all threads finish preloading\n",
    "        cuda.syncthreads()\n",
    "\n",
    "        # Computes partial product on the shared memory\n",
    "        for j in range(TPB):\n",
    "            tmp += sA[tx, j] * sB[j, ty]\n",
    "\n",
    "        # Wait until all threads finish computing\n",
    "        cuda.syncthreads()\n",
    "\n",
    "    C[x, y] = tmp"
   ]
  },
  {
   "cell_type": "markdown",
   "metadata": {},
   "source": [
    "**Attention** : ce kernel ne fonctionne que si n est un multiple du nombre de threads."
   ]
  },
  {
   "cell_type": "code",
   "execution_count": 22,
   "metadata": {},
   "outputs": [
    {
     "name": "stdout",
     "output_type": "stream",
     "text": [
      "1 loop, best of 3: 261 ms per loop\n"
     ]
    }
   ],
   "source": [
    "%timeit fast_matmul[(BPG, BPG), (TPB, TPB)](d_A, d_B, d_C); cuda.synchronize()"
   ]
  },
  {
   "cell_type": "code",
   "execution_count": 23,
   "metadata": {},
   "outputs": [
    {
     "data": {
      "text/plain": [
       "True"
      ]
     },
     "execution_count": 23,
     "metadata": {},
     "output_type": "execute_result"
    }
   ],
   "source": [
    "np.allclose(d_C.copy_to_host(), A@B)"
   ]
  },
  {
   "cell_type": "markdown",
   "metadata": {},
   "source": [
    "#### Fonctions sur le device\n",
    "\n",
    "Il est également possible de créer des fonctions qui sont appelables uniquement sur le device. \n",
    "\n",
    "Par exemple"
   ]
  },
  {
   "cell_type": "code",
   "execution_count": 7,
   "metadata": {
    "collapsed": true
   },
   "outputs": [],
   "source": [
    "import math\n",
    "\n",
    "@cuda.jit(device=True)\n",
    "def sincos(a, b):\n",
    "    return math.sin(a)*math.cos(b)\n",
    "\n",
    "@cuda.jit\n",
    "def test_device_func(a, b, c):\n",
    "    i, j = cuda.grid(2)\n",
    "    \n",
    "    if i < c.shape[0] and j < c.shape[1]:\n",
    "        c[i, j] = sincos(a[i], b[j])"
   ]
  },
  {
   "cell_type": "code",
   "execution_count": 8,
   "metadata": {
    "collapsed": true
   },
   "outputs": [],
   "source": [
    "a = np.linspace(0, 2*np.pi, 1000)\n",
    "b = np.linspace(0, 2*np.pi, 1000)\n",
    "\n",
    "d_a = cuda.to_device(a)\n",
    "d_b = cuda.to_device(b)\n",
    "d_c = cuda.device_array((1000, 1000))\n",
    "\n",
    "TPB = 32\n",
    "BPG = (1000 + TPB - 1) // TPB"
   ]
  },
  {
   "cell_type": "code",
   "execution_count": 9,
   "metadata": {
    "collapsed": true
   },
   "outputs": [],
   "source": [
    "test_device_func[(BPG, BPG), (TPB, TPB)](d_a, d_b, d_c)"
   ]
  },
  {
   "cell_type": "code",
   "execution_count": 15,
   "metadata": {},
   "outputs": [
    {
     "data": {
      "text/plain": [
       "True"
      ]
     },
     "execution_count": 15,
     "metadata": {},
     "output_type": "execute_result"
    }
   ],
   "source": [
    "np.allclose(d_c.copy_to_host(), np.sin(a[:, np.newaxis])*np.cos(b))"
   ]
  },
  {
   "cell_type": "markdown",
   "metadata": {},
   "source": [
    "## Exercices\n",
    "\n",
    "#### Exercice 1\n",
    "\n",
    "Implémentez sur GPU en utilisant **@cuda**, la fonction suivante avec et sans l'utilisation de la mémoire partagée"
   ]
  },
  {
   "cell_type": "code",
   "execution_count": null,
   "metadata": {
    "collapsed": true
   },
   "outputs": [],
   "source": [
    "def splint(xa, ya, y2a, x, y):\n",
    "    n = xa.shape[0]\n",
    "    for i in range(x.shape[0]):\n",
    "        klo = 0\n",
    "        khi = n-1\n",
    "        while(khi-klo) > 1:\n",
    "            k = (khi+klo) >> 1\n",
    "            if xa[k] > x[i]:\n",
    "                khi = k\n",
    "            else:\n",
    "                klo = k\n",
    "        h = xa[khi] - xa[klo]\n",
    "        a = (xa[khi]-x[i])/h    \n",
    "        b = (x[i]-xa[klo])/h\n",
    "        y[i,:] = a*ya[klo,:]+b*ya[khi,:]+((a**3-a)*y2a[klo,:]+(b**3-b)*y2a[khi,:])*h**2/6."
   ]
  },
  {
   "cell_type": "markdown",
   "metadata": {},
   "source": [
    "#### Exercice 2\n",
    "Calculez les performances et observez à partir de quand cela devient intéressant."
   ]
  },
  {
   "cell_type": "code",
   "execution_count": 1,
   "metadata": {},
   "outputs": [
    {
     "data": {
      "text/html": [
       "<link href='http://fonts.googleapis.com/css?family=Fenix' rel='stylesheet' type='text/css'>\n",
       "<link href='http://fonts.googleapis.com/css?family=Alegreya+Sans:100,300,400,500,700,800,900,100italic,300italic,400italic,500italic,700italic,800italic,900italic' rel='stylesheet' type='text/css'>\n",
       "<link href='http://fonts.googleapis.com/css?family=Source+Code+Pro:300,400' rel='stylesheet' type='text/css'>\n",
       "<link href=\"https://fonts.googleapis.com/css?family=Oswald|Raleway\" rel=\"stylesheet\" type='text/css'> \n",
       "<style>\n",
       ".prompt{\n",
       "    display: none !important;\n",
       "}\n",
       "\n",
       ".rendered_html pre {\n",
       "    border: 1px solid #f0f6f9 !important;\n",
       "}\n",
       "\n",
       ".rendered_html pre, .rendered_html code {\n",
       "    background-color: #d3d8db !important;\n",
       "    padding: 1% !important;\n",
       "    line-height: 200% !important;\n",
       "    border-radius: 10px !important;\n",
       "}\n",
       "\n",
       "div.input_area {\n",
       "    border-radius: 10px !important;\n",
       "    background-color: #e1e1e6 !important;\n",
       "}\n",
       "\n",
       "div.cell{\n",
       "        width:85% !important;\n",
       "        margin-left:5% !important;\n",
       "        /*margin-right:auto;*/\n",
       "    }\n",
       "    h1, h2, h3, h4, h5 {\n",
       "        font-family: 'Oswald', sans-serif; !important;\n",
       "        font-style: oblique !important;\n",
       "    }\n",
       "    div.text_cell_render{\n",
       "        font-family: 'Raleway', sans-serif; !important;\n",
       "        line-height: 135% !important;\n",
       "        font-size: 120% !important;\n",
       "        width:100%;/*600px;*/\n",
       "        /*margin-left:auto;*/\n",
       "        /*margin-right:auto;*/\n",
       "    }\n",
       "    .CodeMirror{\n",
       "            font-family: \"Source Code Pro\" !important;\n",
       "\t\t\tfont-size: 100% !important;\n",
       "    }\n",
       "    .text_cell_render p{\n",
       "        text-align: justify !important;\n",
       "    }\n",
       "    .text_cell_render h1 {\n",
       "        font-weight: 200 !important;\n",
       "\t\tline-height: 100% !important;\n",
       "        color:#47597A !important;\n",
       "        margin-bottom: 10.em !important;\n",
       "        margin-top: 50.em !important;\n",
       "        padding-bottom: 50.em !important;\n",
       "        padding-top: 50.em !important;\n",
       "        display: block !important;\n",
       "        font-size: 300% !important;\n",
       "        text-align: center !important;\n",
       "        border-bottom: 1px solid #47597A !important;\n",
       "        border-top: 1px solid #47597A !important;\n",
       "    }\n",
       "    .text_cell_render h2 {\n",
       "        font-weight: 200 !important;\n",
       "\tline-height: 100% !important;\n",
       "        color:#47597A !important;\n",
       "        margin-bottom: 0.5em !important;\n",
       "        margin-top: 0.5em !important;\n",
       "        display: block !important;\n",
       "        font-size: 200% !important;\n",
       "        border-bottom: 1px solid #47597A !important;\n",
       "    }\n",
       "    .text_cell_render h3 {\n",
       "        font-weight: 200 !important;\n",
       "\tline-height: 100% !important;\n",
       "        color:#47597A !important;\n",
       "        margin-bottom: 0.5em !important;\n",
       "        margin-top: 0.5em !important;\n",
       "        display: block !important;\n",
       "        font-size: 200% !important;\n",
       "    }\n",
       "    .text_cell_render h4 {\n",
       "        font-style: italic !important;\n",
       "        font-weight: bold !important;\n",
       "\tline-height: 100% !important;\n",
       "        color:#47597A !important;\n",
       "        display: block !important;\n",
       "        font-size: 100% !important;\n",
       "    }\n",
       "    .text_cell_render h5 {\n",
       "        font-weight: 200 !important;\n",
       "\tline-height: 100% !important;\n",
       "        color:#47597A !important;\n",
       "        margin-bottom: 0.5em !important;\n",
       "        margin-top: 0.5em !important;\n",
       "        display: block !important;\n",
       "        font-size: 100% !important;\n",
       "    }\n",
       "    .text_cell_render ul {\n",
       "\tlist-style-type: disc !important;\n",
       "\tcolor:#47597A !important;\n",
       "    }\n",
       "    .warning{\n",
       "        color: rgb( 240, 20, 20 ) !important;\n",
       "        }\n",
       "</style>\n",
       "\n",
       "<script>\n",
       "    MathJax.Hub.Config({\n",
       "                        TeX: {\n",
       "                           extensions: [\"AMSmath.js\"],\n",
       "                           },\n",
       "                tex2jax: {\n",
       "                    inlineMath: [ ['$','$'], [\"\\\\(\",\"\\\\)\"] ],\n",
       "                    displayMath: [ ['$$','$$'], [\"\\\\[\",\"\\\\]\"] ]\n",
       "                },\n",
       "                displayAlign: 'center', // Change this to 'center' to center equations.\n",
       "                \"HTML-CSS\": {\n",
       "                    styles: {'.MathJax_Display': {\"margin\": 4}}\n",
       "                }\n",
       "        });\n",
       "</script>\n"
      ],
      "text/plain": [
       "<IPython.core.display.HTML object>"
      ]
     },
     "execution_count": 1,
     "metadata": {},
     "output_type": "execute_result"
    }
   ],
   "source": [
    "# execute this part to modify the css style\n",
    "from IPython.core.display import HTML\n",
    "def css_styling():\n",
    "    styles = open(\"./style/custom.css\").read()\n",
    "    return HTML(styles)\n",
    "css_styling()"
   ]
  }
 ],
 "metadata": {
  "kernelspec": {
   "display_name": "Python 3",
   "language": "python",
   "name": "python3"
  },
  "language_info": {
   "codemirror_mode": {
    "name": "ipython",
    "version": 3
   },
   "file_extension": ".py",
   "mimetype": "text/x-python",
   "name": "python",
   "nbconvert_exporter": "python",
   "pygments_lexer": "ipython3",
   "version": "3.6.3"
  }
 },
 "nbformat": 4,
 "nbformat_minor": 2
}
